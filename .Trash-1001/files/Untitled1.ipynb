{
 "cells": [
  {
   "cell_type": "code",
   "execution_count": null,
   "id": "98805e60-66a3-4d45-a3de-e0afdd982f22",
   "metadata": {},
   "outputs": [],
   "source": []
  }
 ],
 "metadata": {
  "kernelspec": {
   "display_name": "",
   "name": ""
  },
  "language_info": {
   "name": ""
  }
 },
 "nbformat": 4,
 "nbformat_minor": 5
}
