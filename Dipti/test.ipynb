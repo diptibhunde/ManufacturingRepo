{
 "cells": [
  {
   "cell_type": "code",
   "execution_count": 3,
   "id": "234d4de5-b6bb-460b-a8ef-5c8ec46c44b1",
   "metadata": {},
   "outputs": [
    {
     "name": "stdout",
     "output_type": "stream",
     "text": [
      "Collecting fosforml\n",
      "\u001b[?25l  Downloading https://files.pythonhosted.org/packages/94/2e/3613fd0ccdbf3709dec86f87fe7624737a6f08bd1a813c88e65e7352dfde/fosforml-1.1.8-py3-none-any.whl (42kB)\n",
      "\u001b[K     |████████████████████████████████| 51kB 1.2MB/s eta 0:00:01\n",
      "\u001b[?25hCollecting snowflake-ml-python==1.5.0; python_version <= \"3.9\"\n",
      "\u001b[?25l  Downloading https://files.pythonhosted.org/packages/80/72/c0fa5a9bc811a59a5a1c7113ff89676ed1629d7d6463db8c1a8c97a8b5f6/snowflake_ml_python-1.5.0-py3-none-any.whl (1.9MB)\n",
      "\u001b[K     |████████████████████████████████| 1.9MB 13.1MB/s eta 0:00:01��██████████████████████████▌   | 1.7MB 13.1MB/s eta 0:00:01\n",
      "\u001b[?25hCollecting cloudpickle==2.2.1\n",
      "  Downloading https://files.pythonhosted.org/packages/15/80/44286939ca215e88fa827b2aeb6fa3fd2b4a7af322485c7170d6f9fd96e0/cloudpickle-2.2.1-py3-none-any.whl\n",
      "Collecting scikit-learn==1.3.2\n",
      "\u001b[?25l  Downloading https://files.pythonhosted.org/packages/25/89/dce01a35d354159dcc901e3c7e7eb3fe98de5cb3639c6cd39518d8830caa/scikit_learn-1.3.2-cp39-cp39-manylinux_2_17_x86_64.manylinux2014_x86_64.whl (10.9MB)\n",
      "\u001b[K     |████████████████████████████████| 10.9MB 111.3MB/s eta 0:00:01B/s eta 0:00:01               | 2.8MB 111.3MB/s eta 0:00:01 0:00:010:00:01█████████████████▌     | 9.0MB 111.3MB/s eta 0:00:01\n",
      "\u001b[?25hCollecting pytimeparse<2,>=1.1.8\n",
      "  Downloading https://files.pythonhosted.org/packages/1b/b4/afd75551a3b910abd1d922dbd45e49e5deeb4d47dc50209ce489ba9844dd/pytimeparse-1.1.8-py2.py3-none-any.whl\n",
      "Collecting snowflake-snowpark-python!=1.12.0,<2,>=1.11.1\n",
      "\u001b[?25l  Downloading https://files.pythonhosted.org/packages/1c/1e/c78cf80cc17dfe32bd89d8c5b7d86982571d58b4d8399bfecb8296e60bf1/snowflake_snowpark_python-1.22.1-py3-none-any.whl (1.3MB)\n",
      "\u001b[K     |████████████████████████████████| 1.3MB 98.7MB/s eta 0:00:01\n",
      "\u001b[?25hCollecting absl-py<2,>=0.15\n",
      "\u001b[?25l  Downloading https://files.pythonhosted.org/packages/dd/87/de5c32fa1b1c6c3305d576e299801d8655c175ca9557019906247b994331/absl_py-1.4.0-py3-none-any.whl (126kB)\n",
      "\u001b[K     |████████████████████████████████| 133kB 110.0MB/s eta 0:00:01\n",
      "\u001b[?25hCollecting s3fs<2024,>=2022.11\n",
      "  Downloading https://files.pythonhosted.org/packages/5b/d6/b8a748b7d3fc7b0fd2ede1cf26a80281d65cc24d5d56b66c3a4c87e256e2/s3fs-2023.12.2-py3-none-any.whl\n",
      "Requirement already satisfied: pyyaml<7,>=6.0 in /opt/conda/lib/python3.9/site-packages (from snowflake-ml-python==1.5.0; python_version <= \"3.9\"->fosforml) (6.0.1)\n",
      "Collecting xgboost<2,>=1.7.3\n",
      "\u001b[?25l  Downloading https://files.pythonhosted.org/packages/8c/3a/c9c5d4d5c49b132ef15ac7b5ccf56ef1c82efe36cd19414771762e97c00e/xgboost-1.7.6-py3-none-manylinux2014_x86_64.whl (200.3MB)\n",
      "\u001b[K     |████████████████████████████████| 200.3MB 75kB/s /s eta 0:00:01.3MB/s eta 0:00:03 |▊                               | 4.5MB 75.3MB/s eta 0:00:03                     | 12.1MB 75.3MB/s eta 0:00:03 0:00:03:00:03               | 21.1MB 75.3MB/s eta 0:00:03███▏                          | 32.2MB 75.3MB/s eta 0:00:03    |█████▌                          | 34.5MB 75.3MB/s eta 0:00:03██████▍                         | 39.8MB 75.3MB/s eta 0:00:03███████                         | 43.9MB 75.3MB/s eta 0:00:03                       | 53.9MB 75.3MB/s eta 0:00:02 0:00:02�████████▏                     | 63.6MB 75.3MB/s eta 0:00:02                | 67.7MB 75.3MB/s eta 0:00:02��██▌                    | 71.9MB 75.3MB/s eta 0:00:02███████                    | 75.6MB 75.3MB/s eta 0:00:02��█▍                  | 83.7MB 4.3MB/s eta 0:00:28            | 99.3MB 4.3MB/s eta 0:00:24████████████████▋               | 104.3MB 4.3MB/s eta 0:00:23██               | 106.1MB 4.3MB/s eta 0:00:23[K     |███████████████████▍            | 121.2MB 4.3MB/s eta 0:00:19�████████▍           | 127.5MB 4.3MB/s eta 0:00:174.4MB 4.3MB/s eta 0:00:16�██████████████████▏         | 138.5MB 4.3MB/s eta 0:00:15██████████████████▌         | 140.9MB 4.3MB/s eta 0:00:14�███████████████         | 144.1MB 4.3MB/s eta 0:00:14�█████▎        | 145.6MB 4.3MB/s eta 0:00:13�█▊        | 148.2MB 4.3MB/s eta 0:00:13�███████        | 150.1MB 4.3MB/s eta 0:00:12�█▌       | 153.3MB 2.2MB/s eta 0:00:22�████████████████▏      | 157.3MB 2.2MB/s eta 0:00:20█████████████▍      | 158.7MB 2.2MB/s eta 0:00:19    |█████████████████████████▉      | 161.8MB 2.2MB/s eta 0:00:18�████████████████████▉    | 173.9MB 2.2MB/s eta 0:00:12��█████████▍   | 177.7MB 2.2MB/s eta 0:00:11|█████████████████████████████▏  | 182.9MB 2.2MB/s eta 0:00:08��████████████████████▊  | 186.2MB 2.2MB/s eta 0:00:07��█████████████████████  | 187.6MB 2.2MB/s eta 0:00:06�████████████████████████████▋ | 191.9MB 2.2MB/s eta 0:00:046.7MB 2.2MB/s eta 0:00:02\n",
      "\u001b[?25hRequirement already satisfied: pandas<3,>=1.0.0 in /opt/conda/lib/python3.9/site-packages (from snowflake-ml-python==1.5.0; python_version <= \"3.9\"->fosforml) (2.2.0)\n",
      "Collecting sqlparse<1,>=0.4\n",
      "\u001b[?25l  Downloading https://files.pythonhosted.org/packages/5d/a5/b2860373aa8de1e626b2bdfdd6df4355f0565b47e51f7d0c54fe70faf8fe/sqlparse-0.5.1-py3-none-any.whl (44kB)\n",
      "\u001b[K     |████████████████████████████████| 51kB 3.0MB/s  eta 0:00:01\n",
      "\u001b[?25hCollecting cachetools<6,>=3.1.1\n",
      "  Downloading https://files.pythonhosted.org/packages/a4/07/14f8ad37f2d12a5ce41206c21820d8cb6561b728e51fad4530dff0552a67/cachetools-5.5.0-py3-none-any.whl\n",
      "Collecting catboost<1.3,>=1.2.0\n",
      "\u001b[?25l  Downloading https://files.pythonhosted.org/packages/35/4a/8ada4fb635601943805cbeeb288f70982fefe48a7cef63352e318435aa98/catboost-1.2.7-cp39-cp39-manylinux2014_x86_64.whl (98.7MB)\n",
      "\u001b[K     |████████████████████████████████| 98.7MB 2.0MB/s eta 0:00:012▌                               | 1.7MB 46.6MB/s eta 0:00:033:020:02�▌                          | 17.1MB 46.6MB/s eta 0:00:02                     | 22.9MB 46.6MB/s eta 0:00:02        | 25.6MB 46.6MB/s eta 0:00:02                       | 27.0MB 46.6MB/s eta 0:00:02:00:0246.6MB/s eta 0:00:02██▎                   | 37.9MB 46.6MB/s eta 0:00:02              | 44.1MB 46.6MB/s eta 0:00:02|███████████████▊                | 48.5MB 46.6MB/s eta 0:00:02███████████▌               | 50.9MB 46.6MB/s eta 0:00:02            | 57.3MB 4.4MB/s eta 0:00:10██████████            | 61.7MB 4.4MB/s eta 0:00:09�██████████████▉          | 67.3MB 4.4MB/s eta 0:00:08████████████████▊         | 70.2MB 4.4MB/s eta 0:00:07�██████▎        | 72.0MB 4.4MB/s eta 0:00:07 0:00:06��█████████████▉      | 79.8MB 4.4MB/s eta 0:00:05MB/s eta 0:00:04    | 85.9MB 4.4MB/s eta 0:00:03�████████████████████▏  | 90.0MB 4.4MB/s eta 0:00:02██▏ | 93.2MB 4.4MB/s eta 0:00:02\n",
      "\u001b[?25hCollecting fsspec[http]<2024,>=2022.11\n",
      "\u001b[?25l  Downloading https://files.pythonhosted.org/packages/70/25/fab23259a52ece5670dcb8452e1af34b89e6135ecc17cd4b54b4b479eac6/fsspec-2023.12.2-py3-none-any.whl (168kB)\n",
      "\u001b[K     |████████████████████████████████| 174kB 116.3MB/s eta 0:00:01\n",
      "\u001b[?25hCollecting anyio<4,>=3.5.0\n",
      "\u001b[?25l  Downloading https://files.pythonhosted.org/packages/19/24/44299477fe7dcc9cb58d0a57d5a7588d6af2ff403fdd2d47a246c91a3246/anyio-3.7.1-py3-none-any.whl (80kB)\n",
      "\u001b[K     |████████████████████████████████| 81kB 3.0MB/s s eta 0:00:01\n",
      "\u001b[?25hCollecting packaging<24,>=20.9\n",
      "\u001b[?25l  Downloading https://files.pythonhosted.org/packages/ec/1a/610693ac4ee14fcdf2d9bf3c493370e4f2ef7ae2e19217d7a237ff42367d/packaging-23.2-py3-none-any.whl (53kB)\n",
      "\u001b[K     |████████████████████████████████| 61kB 4.0MB/s  eta 0:00:01\n",
      "\u001b[?25hCollecting pyarrow\n",
      "\u001b[?25l  Downloading https://files.pythonhosted.org/packages/af/61/bcd9b58e38ead6ad42b9ed00da33a3f862bc1d445e3d3164799c25550ac2/pyarrow-17.0.0-cp39-cp39-manylinux_2_17_x86_64.manylinux2014_x86_64.whl (39.9MB)\n",
      "\u001b[K     |████████████████████████████████| 39.9MB 115.0MB/s eta 0:00:01                  | 1.7MB 115.0MB/s eta 0:00:01K     |████                            | 4.9MB 115.0MB/s eta 0:00:01                | 8.5MB 115.0MB/s eta 0:00:01███████▊                    | 14.7MB 115.0MB/s eta 0:00:0115.0MB/s eta 0:00:01MB/s eta 0:00:01�███████████▍       | 30.4MB 115.0MB/s eta 0:00:01�████████████████████▉      | 32.2MB 115.0MB/s eta 0:00:01:00:01\n",
      "^C\n",
      "Note: you may need to restart the kernel to use updated packages.\n"
     ]
    }
   ],
   "source": [
    "pip install fosforml"
   ]
  },
  {
   "cell_type": "code",
   "execution_count": 1,
   "id": "54f120be-b285-4d57-8041-84bd282ecb07",
   "metadata": {},
   "outputs": [
    {
     "name": "stdout",
     "output_type": "stream",
     "text": [
      "Requirement already satisfied: fosforml in /opt/conda/lib/python3.9/site-packages (1.1.8)\n",
      "Requirement already satisfied: cloudpickle==2.2.1 in /opt/conda/lib/python3.9/site-packages (from fosforml) (2.2.1)\n",
      "Requirement already satisfied: snowflake-ml-python==1.5.0; python_version <= \"3.9\" in /opt/conda/lib/python3.9/site-packages (from fosforml) (1.5.0)\n",
      "Requirement already satisfied: scikit-learn==1.3.2 in /opt/conda/lib/python3.9/site-packages (from fosforml) (1.3.2)\n",
      "Requirement already satisfied: catboost<1.3,>=1.2.0 in /opt/conda/lib/python3.9/site-packages (from snowflake-ml-python==1.5.0; python_version <= \"3.9\"->fosforml) (1.2.7)\n",
      "Requirement already satisfied: s3fs<2024,>=2022.11 in /opt/conda/lib/python3.9/site-packages (from snowflake-ml-python==1.5.0; python_version <= \"3.9\"->fosforml) (2023.12.2)\n",
      "Requirement already satisfied: typing-extensions<5,>=4.1.0 in /opt/conda/lib/python3.9/site-packages (from snowflake-ml-python==1.5.0; python_version <= \"3.9\"->fosforml) (4.12.2)\n",
      "Requirement already satisfied: anyio<4,>=3.5.0 in /opt/conda/lib/python3.9/site-packages (from snowflake-ml-python==1.5.0; python_version <= \"3.9\"->fosforml) (3.7.1)\n",
      "Requirement already satisfied: snowflake-snowpark-python!=1.12.0,<2,>=1.11.1 in /opt/conda/lib/python3.9/site-packages (from snowflake-ml-python==1.5.0; python_version <= \"3.9\"->fosforml) (1.22.1)\n",
      "Requirement already satisfied: pandas<3,>=1.0.0 in /opt/conda/lib/python3.9/site-packages (from snowflake-ml-python==1.5.0; python_version <= \"3.9\"->fosforml) (2.2.0)\n",
      "Requirement already satisfied: snowflake-connector-python[pandas]<4,>=3.5.0 in /opt/conda/lib/python3.9/site-packages (from snowflake-ml-python==1.5.0; python_version <= \"3.9\"->fosforml) (3.12.2)\n",
      "Requirement already satisfied: xgboost<2,>=1.7.3 in /opt/conda/lib/python3.9/site-packages (from snowflake-ml-python==1.5.0; python_version <= \"3.9\"->fosforml) (1.7.6)\n",
      "Requirement already satisfied: scipy<2,>=1.9 in /opt/conda/lib/python3.9/site-packages (from snowflake-ml-python==1.5.0; python_version <= \"3.9\"->fosforml) (1.13.1)\n",
      "Requirement already satisfied: pyyaml<7,>=6.0 in /opt/conda/lib/python3.9/site-packages (from snowflake-ml-python==1.5.0; python_version <= \"3.9\"->fosforml) (6.0.1)\n",
      "Requirement already satisfied: importlib-resources<7,>=6.1.1 in /opt/conda/lib/python3.9/site-packages (from snowflake-ml-python==1.5.0; python_version <= \"3.9\"->fosforml) (6.4.5)\n",
      "Requirement already satisfied: retrying<2,>=1.3.3 in /opt/conda/lib/python3.9/site-packages (from snowflake-ml-python==1.5.0; python_version <= \"3.9\"->fosforml) (1.3.4)\n",
      "Requirement already satisfied: pytimeparse<2,>=1.1.8 in /opt/conda/lib/python3.9/site-packages (from snowflake-ml-python==1.5.0; python_version <= \"3.9\"->fosforml) (1.1.8)\n",
      "Requirement already satisfied: fsspec[http]<2024,>=2022.11 in /opt/conda/lib/python3.9/site-packages (from snowflake-ml-python==1.5.0; python_version <= \"3.9\"->fosforml) (2023.12.2)\n",
      "Requirement already satisfied: absl-py<2,>=0.15 in /opt/conda/lib/python3.9/site-packages (from snowflake-ml-python==1.5.0; python_version <= \"3.9\"->fosforml) (1.4.0)\n",
      "Requirement already satisfied: cachetools<6,>=3.1.1 in /opt/conda/lib/python3.9/site-packages (from snowflake-ml-python==1.5.0; python_version <= \"3.9\"->fosforml) (5.5.0)\n",
      "Requirement already satisfied: numpy<2,>=1.23 in /opt/conda/lib/python3.9/site-packages (from snowflake-ml-python==1.5.0; python_version <= \"3.9\"->fosforml) (1.26.4)\n",
      "Requirement already satisfied: pyarrow in /opt/conda/lib/python3.9/site-packages (from snowflake-ml-python==1.5.0; python_version <= \"3.9\"->fosforml) (17.0.0)\n",
      "Requirement already satisfied: packaging<24,>=20.9 in /opt/conda/lib/python3.9/site-packages (from snowflake-ml-python==1.5.0; python_version <= \"3.9\"->fosforml) (23.2)\n",
      "Requirement already satisfied: sqlparse<1,>=0.4 in /opt/conda/lib/python3.9/site-packages (from snowflake-ml-python==1.5.0; python_version <= \"3.9\"->fosforml) (0.5.1)\n",
      "Requirement already satisfied: joblib>=1.1.1 in /opt/conda/lib/python3.9/site-packages (from scikit-learn==1.3.2->fosforml) (1.4.2)\n",
      "Requirement already satisfied: threadpoolctl>=2.0.0 in /opt/conda/lib/python3.9/site-packages (from scikit-learn==1.3.2->fosforml) (3.5.0)\n",
      "Requirement already satisfied: plotly in /opt/conda/lib/python3.9/site-packages (from catboost<1.3,>=1.2.0->snowflake-ml-python==1.5.0; python_version <= \"3.9\"->fosforml) (5.24.1)\n",
      "Requirement already satisfied: matplotlib in /opt/conda/lib/python3.9/site-packages (from catboost<1.3,>=1.2.0->snowflake-ml-python==1.5.0; python_version <= \"3.9\"->fosforml) (3.9.2)\n",
      "Requirement already satisfied: six in /opt/conda/lib/python3.9/site-packages (from catboost<1.3,>=1.2.0->snowflake-ml-python==1.5.0; python_version <= \"3.9\"->fosforml) (1.16.0)\n",
      "Requirement already satisfied: graphviz in /opt/conda/lib/python3.9/site-packages (from catboost<1.3,>=1.2.0->snowflake-ml-python==1.5.0; python_version <= \"3.9\"->fosforml) (0.20.3)\n",
      "Requirement already satisfied: aiobotocore<3.0.0,>=2.5.4 in /opt/conda/lib/python3.9/site-packages (from s3fs<2024,>=2022.11->snowflake-ml-python==1.5.0; python_version <= \"3.9\"->fosforml) (2.15.1)\n",
      "Requirement already satisfied: aiohttp!=4.0.0a0,!=4.0.0a1 in /opt/conda/lib/python3.9/site-packages (from s3fs<2024,>=2022.11->snowflake-ml-python==1.5.0; python_version <= \"3.9\"->fosforml) (3.10.6)\n",
      "Requirement already satisfied: idna>=2.8 in /opt/conda/lib/python3.9/site-packages (from anyio<4,>=3.5.0->snowflake-ml-python==1.5.0; python_version <= \"3.9\"->fosforml) (3.7)\n",
      "Requirement already satisfied: exceptiongroup; python_version < \"3.11\" in /opt/conda/lib/python3.9/site-packages (from anyio<4,>=3.5.0->snowflake-ml-python==1.5.0; python_version <= \"3.9\"->fosforml) (1.2.2)\n",
      "Requirement already satisfied: sniffio>=1.1 in /opt/conda/lib/python3.9/site-packages (from anyio<4,>=3.5.0->snowflake-ml-python==1.5.0; python_version <= \"3.9\"->fosforml) (1.3.1)\n",
      "Requirement already satisfied: setuptools>=40.6.0 in /opt/conda/lib/python3.9/site-packages (from snowflake-snowpark-python!=1.12.0,<2,>=1.11.1->snowflake-ml-python==1.5.0; python_version <= \"3.9\"->fosforml) (65.6.3)\n",
      "Requirement already satisfied: wheel in /opt/conda/lib/python3.9/site-packages (from snowflake-snowpark-python!=1.12.0,<2,>=1.11.1->snowflake-ml-python==1.5.0; python_version <= \"3.9\"->fosforml) (0.37.1)\n",
      "Requirement already satisfied: python-dateutil>=2.8.2 in /opt/conda/lib/python3.9/site-packages (from pandas<3,>=1.0.0->snowflake-ml-python==1.5.0; python_version <= \"3.9\"->fosforml) (2.9.0.post0)\n",
      "Requirement already satisfied: tzdata>=2022.7 in /opt/conda/lib/python3.9/site-packages (from pandas<3,>=1.0.0->snowflake-ml-python==1.5.0; python_version <= \"3.9\"->fosforml) (2024.1)\n",
      "Requirement already satisfied: pytz>=2020.1 in /opt/conda/lib/python3.9/site-packages (from pandas<3,>=1.0.0->snowflake-ml-python==1.5.0; python_version <= \"3.9\"->fosforml) (2024.1)\n",
      "Requirement already satisfied: filelock<4,>=3.5 in /opt/conda/lib/python3.9/site-packages (from snowflake-connector-python[pandas]<4,>=3.5.0->snowflake-ml-python==1.5.0; python_version <= \"3.9\"->fosforml) (3.16.1)\n",
      "Requirement already satisfied: requests<3.0.0 in /opt/conda/lib/python3.9/site-packages (from snowflake-connector-python[pandas]<4,>=3.5.0->snowflake-ml-python==1.5.0; python_version <= \"3.9\"->fosforml) (2.32.3)\n",
      "Requirement already satisfied: pyjwt<3.0.0 in /opt/conda/lib/python3.9/site-packages (from snowflake-connector-python[pandas]<4,>=3.5.0->snowflake-ml-python==1.5.0; python_version <= \"3.9\"->fosforml) (2.9.0)\n",
      "Requirement already satisfied: charset-normalizer<4,>=2 in /opt/conda/lib/python3.9/site-packages (from snowflake-connector-python[pandas]<4,>=3.5.0->snowflake-ml-python==1.5.0; python_version <= \"3.9\"->fosforml) (3.3.2)\n",
      "Requirement already satisfied: urllib3<2.0.0,>=1.21.1; python_version < \"3.10\" in /opt/conda/lib/python3.9/site-packages (from snowflake-connector-python[pandas]<4,>=3.5.0->snowflake-ml-python==1.5.0; python_version <= \"3.9\"->fosforml) (1.26.20)\n",
      "Requirement already satisfied: cryptography>=3.1.0 in /opt/conda/lib/python3.9/site-packages (from snowflake-connector-python[pandas]<4,>=3.5.0->snowflake-ml-python==1.5.0; python_version <= \"3.9\"->fosforml) (42.0.5)\n",
      "Requirement already satisfied: tomlkit in /opt/conda/lib/python3.9/site-packages (from snowflake-connector-python[pandas]<4,>=3.5.0->snowflake-ml-python==1.5.0; python_version <= \"3.9\"->fosforml) (0.13.2)\n",
      "Requirement already satisfied: certifi>=2017.4.17 in /opt/conda/lib/python3.9/site-packages (from snowflake-connector-python[pandas]<4,>=3.5.0->snowflake-ml-python==1.5.0; python_version <= \"3.9\"->fosforml) (2024.7.4)\n",
      "Requirement already satisfied: sortedcontainers>=2.4.0 in /opt/conda/lib/python3.9/site-packages (from snowflake-connector-python[pandas]<4,>=3.5.0->snowflake-ml-python==1.5.0; python_version <= \"3.9\"->fosforml) (2.4.0)\n",
      "Requirement already satisfied: asn1crypto<2.0.0,>0.24.0 in /opt/conda/lib/python3.9/site-packages (from snowflake-connector-python[pandas]<4,>=3.5.0->snowflake-ml-python==1.5.0; python_version <= \"3.9\"->fosforml) (1.5.1)\n",
      "Requirement already satisfied: pyOpenSSL<25.0.0,>=16.2.0 in /opt/conda/lib/python3.9/site-packages (from snowflake-connector-python[pandas]<4,>=3.5.0->snowflake-ml-python==1.5.0; python_version <= \"3.9\"->fosforml) (24.0.0)\n",
      "Requirement already satisfied: platformdirs<5.0.0,>=2.6.0 in /opt/conda/lib/python3.9/site-packages (from snowflake-connector-python[pandas]<4,>=3.5.0->snowflake-ml-python==1.5.0; python_version <= \"3.9\"->fosforml) (4.2.2)\n",
      "Requirement already satisfied: cffi<2.0.0,>=1.9 in /opt/conda/lib/python3.9/site-packages (from snowflake-connector-python[pandas]<4,>=3.5.0->snowflake-ml-python==1.5.0; python_version <= \"3.9\"->fosforml) (1.16.0)\n",
      "Requirement already satisfied: zipp>=3.1.0; python_version < \"3.10\" in /opt/conda/lib/python3.9/site-packages (from importlib-resources<7,>=6.1.1->snowflake-ml-python==1.5.0; python_version <= \"3.9\"->fosforml) (3.19.2)\n",
      "Requirement already satisfied: tenacity>=6.2.0 in /opt/conda/lib/python3.9/site-packages (from plotly->catboost<1.3,>=1.2.0->snowflake-ml-python==1.5.0; python_version <= \"3.9\"->fosforml) (9.0.0)\n",
      "Requirement already satisfied: pyparsing>=2.3.1 in /opt/conda/lib/python3.9/site-packages (from matplotlib->catboost<1.3,>=1.2.0->snowflake-ml-python==1.5.0; python_version <= \"3.9\"->fosforml) (3.1.4)\n",
      "Requirement already satisfied: fonttools>=4.22.0 in /opt/conda/lib/python3.9/site-packages (from matplotlib->catboost<1.3,>=1.2.0->snowflake-ml-python==1.5.0; python_version <= \"3.9\"->fosforml) (4.54.1)\n",
      "Requirement already satisfied: cycler>=0.10 in /opt/conda/lib/python3.9/site-packages (from matplotlib->catboost<1.3,>=1.2.0->snowflake-ml-python==1.5.0; python_version <= \"3.9\"->fosforml) (0.12.1)\n",
      "Requirement already satisfied: kiwisolver>=1.3.1 in /opt/conda/lib/python3.9/site-packages (from matplotlib->catboost<1.3,>=1.2.0->snowflake-ml-python==1.5.0; python_version <= \"3.9\"->fosforml) (1.4.7)\n",
      "Requirement already satisfied: contourpy>=1.0.1 in /opt/conda/lib/python3.9/site-packages (from matplotlib->catboost<1.3,>=1.2.0->snowflake-ml-python==1.5.0; python_version <= \"3.9\"->fosforml) (1.3.0)\n",
      "Requirement already satisfied: pillow>=8 in /opt/conda/lib/python3.9/site-packages (from matplotlib->catboost<1.3,>=1.2.0->snowflake-ml-python==1.5.0; python_version <= \"3.9\"->fosforml) (10.4.0)\n",
      "Requirement already satisfied: botocore<1.35.24,>=1.35.16 in /opt/conda/lib/python3.9/site-packages (from aiobotocore<3.0.0,>=2.5.4->s3fs<2024,>=2022.11->snowflake-ml-python==1.5.0; python_version <= \"3.9\"->fosforml) (1.35.23)\n",
      "Requirement already satisfied: wrapt<2.0.0,>=1.10.10 in /opt/conda/lib/python3.9/site-packages (from aiobotocore<3.0.0,>=2.5.4->s3fs<2024,>=2022.11->snowflake-ml-python==1.5.0; python_version <= \"3.9\"->fosforml) (1.16.0)\n",
      "Requirement already satisfied: aioitertools<1.0.0,>=0.5.1 in /opt/conda/lib/python3.9/site-packages (from aiobotocore<3.0.0,>=2.5.4->s3fs<2024,>=2022.11->snowflake-ml-python==1.5.0; python_version <= \"3.9\"->fosforml) (0.12.0)\n",
      "Requirement already satisfied: aiohappyeyeballs>=2.3.0 in /opt/conda/lib/python3.9/site-packages (from aiohttp!=4.0.0a0,!=4.0.0a1->s3fs<2024,>=2022.11->snowflake-ml-python==1.5.0; python_version <= \"3.9\"->fosforml) (2.4.0)\n",
      "Requirement already satisfied: async-timeout<5.0,>=4.0; python_version < \"3.11\" in /opt/conda/lib/python3.9/site-packages (from aiohttp!=4.0.0a0,!=4.0.0a1->s3fs<2024,>=2022.11->snowflake-ml-python==1.5.0; python_version <= \"3.9\"->fosforml) (4.0.3)\n",
      "Requirement already satisfied: attrs>=17.3.0 in /opt/conda/lib/python3.9/site-packages (from aiohttp!=4.0.0a0,!=4.0.0a1->s3fs<2024,>=2022.11->snowflake-ml-python==1.5.0; python_version <= \"3.9\"->fosforml) (23.2.0)\n",
      "Requirement already satisfied: multidict<7.0,>=4.5 in /opt/conda/lib/python3.9/site-packages (from aiohttp!=4.0.0a0,!=4.0.0a1->s3fs<2024,>=2022.11->snowflake-ml-python==1.5.0; python_version <= \"3.9\"->fosforml) (6.1.0)\n",
      "Requirement already satisfied: aiosignal>=1.1.2 in /opt/conda/lib/python3.9/site-packages (from aiohttp!=4.0.0a0,!=4.0.0a1->s3fs<2024,>=2022.11->snowflake-ml-python==1.5.0; python_version <= \"3.9\"->fosforml) (1.3.1)\n",
      "Requirement already satisfied: frozenlist>=1.1.1 in /opt/conda/lib/python3.9/site-packages (from aiohttp!=4.0.0a0,!=4.0.0a1->s3fs<2024,>=2022.11->snowflake-ml-python==1.5.0; python_version <= \"3.9\"->fosforml) (1.4.1)\n",
      "Requirement already satisfied: yarl<2.0,>=1.12.0 in /opt/conda/lib/python3.9/site-packages (from aiohttp!=4.0.0a0,!=4.0.0a1->s3fs<2024,>=2022.11->snowflake-ml-python==1.5.0; python_version <= \"3.9\"->fosforml) (1.12.1)\n",
      "Requirement already satisfied: pycparser in /opt/conda/lib/python3.9/site-packages (from cffi<2.0.0,>=1.9->snowflake-connector-python[pandas]<4,>=3.5.0->snowflake-ml-python==1.5.0; python_version <= \"3.9\"->fosforml) (2.21)\n",
      "Requirement already satisfied: jmespath<2.0.0,>=0.7.1 in /opt/conda/lib/python3.9/site-packages (from botocore<1.35.24,>=1.35.16->aiobotocore<3.0.0,>=2.5.4->s3fs<2024,>=2022.11->snowflake-ml-python==1.5.0; python_version <= \"3.9\"->fosforml) (1.0.1)\n",
      "\u001b[33mWARNING: You are using pip version 19.3.1; however, version 24.2 is available.\n",
      "You should consider upgrading via the 'pip install --upgrade pip' command.\u001b[0m\n",
      "Note: you may need to restart the kernel to use updated packages.\n"
     ]
    }
   ],
   "source": [
    "pip install fosforml"
   ]
  },
  {
   "cell_type": "code",
   "execution_count": 3,
   "id": "9dc96abd-3e9c-4efc-bf60-0560182f9232",
   "metadata": {},
   "outputs": [],
   "source": [
    "from fosforml.model_manager.snowflakesession import get_session"
   ]
  },
  {
   "cell_type": "code",
   "execution_count": 4,
   "id": "5208a84b-2cd0-4dce-89f3-e8c0c36a7eb9",
   "metadata": {},
   "outputs": [],
   "source": [
    "my_session = get_session()"
   ]
  },
  {
   "cell_type": "code",
   "execution_count": 5,
   "id": "31338fd1-5c0d-4706-ba18-e72b08099662",
   "metadata": {},
   "outputs": [
    {
     "name": "stdout",
     "output_type": "stream",
     "text": [
      "(225563, 4)\n"
     ]
    }
   ],
   "source": [
    "table_name = 'Fact_Customer_Orders'\n",
    "sf_df = my_session.sql(\"select * from {}\".format(table_name)) \n",
    " \n",
    "df = sf_df.to_pandas() \n",
    "print(df.shape)"
   ]
  },
  {
   "cell_type": "code",
   "execution_count": 6,
   "id": "9cfc5f6a-3f47-419e-82e2-01107f3e9564",
   "metadata": {},
   "outputs": [
    {
     "data": {
      "text/plain": [
       "Index(['ORDER_ID', 'PRODUCT_ID', 'ORDER_QTY', 'ORDER_DATE'], dtype='object')"
      ]
     },
     "execution_count": 6,
     "metadata": {},
     "output_type": "execute_result"
    }
   ],
   "source": [
    "df.columns"
   ]
  },
  {
   "cell_type": "code",
   "execution_count": 9,
   "id": "c425c6f7-139b-4c0e-9ae6-2e2f7b68d650",
   "metadata": {},
   "outputs": [
    {
     "data": {
      "text/plain": [
       "'MFG_DEMAND_ANALYTICS'"
      ]
     },
     "execution_count": 9,
     "metadata": {},
     "output_type": "execute_result"
    }
   ],
   "source": [
    "my_session.connection.database "
   ]
  },
  {
   "cell_type": "code",
   "execution_count": 10,
   "id": "e6eea923-0d53-4862-8a0f-5fad1551dfe2",
   "metadata": {},
   "outputs": [
    {
     "data": {
      "text/plain": [
       "'GOLD'"
      ]
     },
     "execution_count": 10,
     "metadata": {},
     "output_type": "execute_result"
    }
   ],
   "source": [
    "my_session.connection.schema"
   ]
  },
  {
   "cell_type": "code",
   "execution_count": 11,
   "id": "2b795535-4eb6-420e-9933-466b1a8261ad",
   "metadata": {},
   "outputs": [
    {
     "data": {
      "text/plain": [
       "snowflake.snowpark.dataframe.DataFrame"
      ]
     },
     "execution_count": 11,
     "metadata": {},
     "output_type": "execute_result"
    }
   ],
   "source": [
    "type(sf_df)"
   ]
  },
  {
   "cell_type": "code",
   "execution_count": 12,
   "id": "126c61e6-35fd-4f12-9c17-1702560e2061",
   "metadata": {},
   "outputs": [
    {
     "data": {
      "text/plain": [
       "pandas.core.frame.DataFrame"
      ]
     },
     "execution_count": 12,
     "metadata": {},
     "output_type": "execute_result"
    }
   ],
   "source": [
    "type(df)"
   ]
  },
  {
   "cell_type": "code",
   "execution_count": 13,
   "id": "a96948d6-eeb0-4bba-98c6-af3209ec561b",
   "metadata": {},
   "outputs": [
    {
     "data": {
      "text/html": [
       "<div>\n",
       "<style scoped>\n",
       "    .dataframe tbody tr th:only-of-type {\n",
       "        vertical-align: middle;\n",
       "    }\n",
       "\n",
       "    .dataframe tbody tr th {\n",
       "        vertical-align: top;\n",
       "    }\n",
       "\n",
       "    .dataframe thead th {\n",
       "        text-align: right;\n",
       "    }\n",
       "</style>\n",
       "<table border=\"1\" class=\"dataframe\">\n",
       "  <thead>\n",
       "    <tr style=\"text-align: right;\">\n",
       "      <th></th>\n",
       "      <th>ORDER_ID</th>\n",
       "      <th>PRODUCT_ID</th>\n",
       "      <th>ORDER_QTY</th>\n",
       "      <th>ORDER_DATE</th>\n",
       "    </tr>\n",
       "  </thead>\n",
       "  <tbody>\n",
       "    <tr>\n",
       "      <th>0</th>\n",
       "      <td>Order_000006</td>\n",
       "      <td>Product_001</td>\n",
       "      <td>850</td>\n",
       "      <td>2019-01-02</td>\n",
       "    </tr>\n",
       "    <tr>\n",
       "      <th>1</th>\n",
       "      <td>Order_000001</td>\n",
       "      <td>Product_004</td>\n",
       "      <td>700</td>\n",
       "      <td>2019-01-02</td>\n",
       "    </tr>\n",
       "    <tr>\n",
       "      <th>2</th>\n",
       "      <td>Order_000003</td>\n",
       "      <td>Product_004</td>\n",
       "      <td>900</td>\n",
       "      <td>2019-01-02</td>\n",
       "    </tr>\n",
       "    <tr>\n",
       "      <th>3</th>\n",
       "      <td>Order_000008</td>\n",
       "      <td>Product_004</td>\n",
       "      <td>550</td>\n",
       "      <td>2019-01-02</td>\n",
       "    </tr>\n",
       "    <tr>\n",
       "      <th>4</th>\n",
       "      <td>Order_000012</td>\n",
       "      <td>Product_004</td>\n",
       "      <td>300</td>\n",
       "      <td>2019-01-02</td>\n",
       "    </tr>\n",
       "  </tbody>\n",
       "</table>\n",
       "</div>"
      ],
      "text/plain": [
       "       ORDER_ID   PRODUCT_ID  ORDER_QTY  ORDER_DATE\n",
       "0  Order_000006  Product_001        850  2019-01-02\n",
       "1  Order_000001  Product_004        700  2019-01-02\n",
       "2  Order_000003  Product_004        900  2019-01-02\n",
       "3  Order_000008  Product_004        550  2019-01-02\n",
       "4  Order_000012  Product_004        300  2019-01-02"
      ]
     },
     "execution_count": 13,
     "metadata": {},
     "output_type": "execute_result"
    }
   ],
   "source": [
    "df.head(5)"
   ]
  },
  {
   "cell_type": "code",
   "execution_count": 14,
   "id": "d7ef6e5a-94f9-45b8-8400-58180287b115",
   "metadata": {},
   "outputs": [
    {
     "data": {
      "text/html": [
       "<div>\n",
       "<style scoped>\n",
       "    .dataframe tbody tr th:only-of-type {\n",
       "        vertical-align: middle;\n",
       "    }\n",
       "\n",
       "    .dataframe tbody tr th {\n",
       "        vertical-align: top;\n",
       "    }\n",
       "\n",
       "    .dataframe thead th {\n",
       "        text-align: right;\n",
       "    }\n",
       "</style>\n",
       "<table border=\"1\" class=\"dataframe\">\n",
       "  <thead>\n",
       "    <tr style=\"text-align: right;\">\n",
       "      <th></th>\n",
       "      <th>ORDER_QTY</th>\n",
       "    </tr>\n",
       "  </thead>\n",
       "  <tbody>\n",
       "    <tr>\n",
       "      <th>count</th>\n",
       "      <td>225563.000000</td>\n",
       "    </tr>\n",
       "    <tr>\n",
       "      <th>mean</th>\n",
       "      <td>525.099418</td>\n",
       "    </tr>\n",
       "    <tr>\n",
       "      <th>std</th>\n",
       "      <td>288.681633</td>\n",
       "    </tr>\n",
       "    <tr>\n",
       "      <th>min</th>\n",
       "      <td>50.000000</td>\n",
       "    </tr>\n",
       "    <tr>\n",
       "      <th>25%</th>\n",
       "      <td>250.000000</td>\n",
       "    </tr>\n",
       "    <tr>\n",
       "      <th>50%</th>\n",
       "      <td>550.000000</td>\n",
       "    </tr>\n",
       "    <tr>\n",
       "      <th>75%</th>\n",
       "      <td>800.000000</td>\n",
       "    </tr>\n",
       "    <tr>\n",
       "      <th>max</th>\n",
       "      <td>1000.000000</td>\n",
       "    </tr>\n",
       "  </tbody>\n",
       "</table>\n",
       "</div>"
      ],
      "text/plain": [
       "           ORDER_QTY\n",
       "count  225563.000000\n",
       "mean      525.099418\n",
       "std       288.681633\n",
       "min        50.000000\n",
       "25%       250.000000\n",
       "50%       550.000000\n",
       "75%       800.000000\n",
       "max      1000.000000"
      ]
     },
     "execution_count": 14,
     "metadata": {},
     "output_type": "execute_result"
    }
   ],
   "source": [
    "df.describe()"
   ]
  },
  {
   "cell_type": "code",
   "execution_count": 15,
   "id": "d4938a8b-8111-4164-8ef0-e4d17e4f8238",
   "metadata": {},
   "outputs": [
    {
     "data": {
      "text/plain": [
       "ORDER_ID      0\n",
       "PRODUCT_ID    0\n",
       "ORDER_QTY     0\n",
       "ORDER_DATE    0\n",
       "dtype: int64"
      ]
     },
     "execution_count": 15,
     "metadata": {},
     "output_type": "execute_result"
    }
   ],
   "source": [
    "df.isnull().sum()"
   ]
  },
  {
   "cell_type": "code",
   "execution_count": 16,
   "id": "768cc666-2be7-4e20-bd7d-6291d0a749a3",
   "metadata": {},
   "outputs": [
    {
     "data": {
      "text/plain": [
       "0"
      ]
     },
     "execution_count": 16,
     "metadata": {},
     "output_type": "execute_result"
    }
   ],
   "source": [
    "df.duplicated().sum()"
   ]
  },
  {
   "cell_type": "code",
   "execution_count": 17,
   "id": "51491248-01fe-47c8-a91a-ecdfae5e302e",
   "metadata": {},
   "outputs": [
    {
     "data": {
      "text/html": [
       "<div>\n",
       "<style scoped>\n",
       "    .dataframe tbody tr th:only-of-type {\n",
       "        vertical-align: middle;\n",
       "    }\n",
       "\n",
       "    .dataframe tbody tr th {\n",
       "        vertical-align: top;\n",
       "    }\n",
       "\n",
       "    .dataframe thead th {\n",
       "        text-align: right;\n",
       "    }\n",
       "</style>\n",
       "<table border=\"1\" class=\"dataframe\">\n",
       "  <thead>\n",
       "    <tr style=\"text-align: right;\">\n",
       "      <th></th>\n",
       "      <th>ORDER_QTY</th>\n",
       "    </tr>\n",
       "  </thead>\n",
       "  <tbody>\n",
       "    <tr>\n",
       "      <th>ORDER_QTY</th>\n",
       "      <td>1.0</td>\n",
       "    </tr>\n",
       "  </tbody>\n",
       "</table>\n",
       "</div>"
      ],
      "text/plain": [
       "           ORDER_QTY\n",
       "ORDER_QTY        1.0"
      ]
     },
     "execution_count": 17,
     "metadata": {},
     "output_type": "execute_result"
    }
   ],
   "source": [
    "df.corr(numeric_only=True)"
   ]
  },
  {
   "cell_type": "code",
   "execution_count": 18,
   "id": "62be13e3-4ec2-4562-8bbe-079925cc349a",
   "metadata": {},
   "outputs": [],
   "source": [
    "import matplotlib.pyplot as plt "
   ]
  },
  {
   "cell_type": "code",
   "execution_count": 1,
   "id": "ce35490c-dade-4182-a5d6-5ec48ade3e75",
   "metadata": {},
   "outputs": [
    {
     "name": "stdout",
     "output_type": "stream",
     "text": [
      "Collecting statsmodels\n",
      "\u001b[?25l  Downloading https://files.pythonhosted.org/packages/38/d2/5c6a7f11306d25ab10dbade224f55d1a0d492c48292aed65b351b89a0abe/statsmodels-0.14.3-cp39-cp39-manylinux_2_17_x86_64.manylinux2014_x86_64.whl (10.8MB)\n",
      "\u001b[K     |████████████████████████████████| 10.8MB 6.8MB/s eta 0:00:018MB/s eta 0:00:01\n",
      "\u001b[?25hRequirement already satisfied: packaging>=21.3 in /opt/conda/lib/python3.9/site-packages (from statsmodels) (23.2)\n",
      "Requirement already satisfied: numpy<3,>=1.22.3 in /opt/conda/lib/python3.9/site-packages (from statsmodels) (1.26.4)\n",
      "Requirement already satisfied: scipy!=1.9.2,>=1.8 in /opt/conda/lib/python3.9/site-packages (from statsmodels) (1.13.1)\n",
      "Collecting patsy>=0.5.6\n",
      "\u001b[?25l  Downloading https://files.pythonhosted.org/packages/43/f3/1d311a09c34f14f5973bb0bb0dc3a6e007e1eda90b5492d082689936ca51/patsy-0.5.6-py2.py3-none-any.whl (233kB)\n",
      "\u001b[K     |████████████████████████████████| 235kB 106.9MB/s eta 0:00:01\n",
      "\u001b[?25hRequirement already satisfied: pandas!=2.1.0,>=1.4 in /opt/conda/lib/python3.9/site-packages (from statsmodels) (2.2.0)\n",
      "Requirement already satisfied: six in /opt/conda/lib/python3.9/site-packages (from patsy>=0.5.6->statsmodels) (1.16.0)\n",
      "Requirement already satisfied: tzdata>=2022.7 in /opt/conda/lib/python3.9/site-packages (from pandas!=2.1.0,>=1.4->statsmodels) (2024.1)\n",
      "Requirement already satisfied: pytz>=2020.1 in /opt/conda/lib/python3.9/site-packages (from pandas!=2.1.0,>=1.4->statsmodels) (2024.1)\n",
      "Requirement already satisfied: python-dateutil>=2.8.2 in /opt/conda/lib/python3.9/site-packages (from pandas!=2.1.0,>=1.4->statsmodels) (2.9.0.post0)\n",
      "Installing collected packages: patsy, statsmodels\n",
      "Successfully installed patsy-0.5.6 statsmodels-0.14.3\n",
      "\u001b[33mWARNING: You are using pip version 19.3.1; however, version 24.2 is available.\n",
      "You should consider upgrading via the 'pip install --upgrade pip' command.\u001b[0m\n",
      "Note: you may need to restart the kernel to use updated packages.\n"
     ]
    }
   ],
   "source": [
    "pip install statsmodels"
   ]
  },
  {
   "cell_type": "code",
   "execution_count": 2,
   "id": "8381d7bf-8f3b-4632-ad1b-9a5a77c94af0",
   "metadata": {},
   "outputs": [],
   "source": [
    "import pandas as pd\n",
    "import numpy as np\n",
    "import statsmodels.api as sm\n",
    "from statsmodels.tsa.statespace.sarimax import SARIMAX\n",
    "from sklearn.metrics import mean_squared_error, r2_score"
   ]
  },
  {
   "cell_type": "code",
   "execution_count": 4,
   "id": "c7e3b99e-e049-4e5d-a160-057d3f7b2c9e",
   "metadata": {},
   "outputs": [],
   "source": [
    "from fosforml.model_manager.snowflakesession import get_session\n",
    "my_session = get_session()\n",
    " \n"
   ]
  },
  {
   "cell_type": "code",
   "execution_count": 6,
   "id": "1388ca9a-b887-4d19-b578-83f5423a556c",
   "metadata": {},
   "outputs": [],
   "source": [
    "table_name = 'Fact_Customer_Orders'\n",
    "sf_df = my_session.sql(\"select * from {}\".format(table_name)) \n",
    " \n",
    "df = sf_df.to_pandas() "
   ]
  },
  {
   "cell_type": "code",
   "execution_count": 7,
   "id": "f0c30f0c-1a79-41f3-90c4-70f2ee930519",
   "metadata": {},
   "outputs": [
    {
     "data": {
      "text/plain": [
       "Index(['ORDER_ID', 'PRODUCT_ID', 'ORDER_QTY', 'ORDER_DATE'], dtype='object')"
      ]
     },
     "execution_count": 7,
     "metadata": {},
     "output_type": "execute_result"
    }
   ],
   "source": [
    "df.columns"
   ]
  },
  {
   "cell_type": "code",
   "execution_count": 8,
   "id": "13b05fd2-ca50-4b27-8f49-b9c4598b8f95",
   "metadata": {},
   "outputs": [],
   "source": [
    "data = df[['PRODUCT_ID','ORDER_QTY', 'ORDER_DATE']]"
   ]
  },
  {
   "cell_type": "code",
   "execution_count": 9,
   "id": "858d7d68-b359-4878-b0ac-b1086937648b",
   "metadata": {},
   "outputs": [],
   "source": [
    "data['ORDER_DATE'] = pd.to_datetime(data['ORDER_DATE'])"
   ]
  },
  {
   "cell_type": "code",
   "execution_count": 10,
   "id": "4d546b86-ef99-428b-b7ec-448db6283207",
   "metadata": {},
   "outputs": [
    {
     "name": "stdout",
     "output_type": "stream",
     "text": [
      "<class 'pandas.core.frame.DataFrame'>\n",
      "RangeIndex: 225563 entries, 0 to 225562\n",
      "Data columns (total 3 columns):\n",
      " #   Column      Non-Null Count   Dtype         \n",
      "---  ------      --------------   -----         \n",
      " 0   PRODUCT_ID  225563 non-null  object        \n",
      " 1   ORDER_QTY   225563 non-null  int16         \n",
      " 2   ORDER_DATE  225563 non-null  datetime64[ns]\n",
      "dtypes: datetime64[ns](1), int16(1), object(1)\n",
      "memory usage: 3.9+ MB\n"
     ]
    }
   ],
   "source": [
    "data.info()"
   ]
  },
  {
   "cell_type": "code",
   "execution_count": 11,
   "id": "a7ba6959-3138-4169-a802-a21b34513bf9",
   "metadata": {},
   "outputs": [],
   "source": [
    "data = data.set_index('ORDER_DATE')"
   ]
  },
  {
   "cell_type": "code",
   "execution_count": 12,
   "id": "db015d88-1031-4f15-9f08-4767c296c03d",
   "metadata": {},
   "outputs": [],
   "source": [
    "data.sort_index(inplace=True)"
   ]
  },
  {
   "cell_type": "markdown",
   "id": "ced607ed-b13e-44c0-98aa-fc6c2bfc0d25",
   "metadata": {},
   "source": [
    "data"
   ]
  },
  {
   "cell_type": "code",
   "execution_count": 14,
   "id": "447b5f37-fae1-4298-965f-b2e632a462e2",
   "metadata": {},
   "outputs": [],
   "source": [
    "# Group data by 'product_id'\n",
    "grouped_data = data.groupby('PRODUCT_ID')"
   ]
  },
  {
   "cell_type": "code",
   "execution_count": 15,
   "id": "47355841-12fc-4b44-98b4-28c4521a3609",
   "metadata": {},
   "outputs": [],
   "source": [
    "# Initialize an empty DataFrame for forecast results\n",
    "test_results = pd.DataFrame(columns=['PRODUCT_ID','ORDER_DATE', 'test_forecast_order_qty','rse', 'rmse','r2_score'])"
   ]
  },
  {
   "cell_type": "code",
   "execution_count": 16,
   "id": "6a977146-143e-44ad-bee3-4438ee184ecb",
   "metadata": {},
   "outputs": [],
   "source": [
    "# Initialize an empty DataFrame for forecast results\n",
    "forecast_results = pd.DataFrame(columns=['PRODUCT_ID','ORDER_DATE', 'forecast_order_qty'])"
   ]
  },
  {
   "cell_type": "code",
   "execution_count": 20,
   "id": "98f845b2-da40-4b1f-b9ca-611f94f5a052",
   "metadata": {},
   "outputs": [],
   "source": [
    "for PRODUCT_ID, group in grouped_data:\n",
    "    # Sort data by order date\n",
    "    group.sort_index(inplace=True)\n",
    "    \n",
    "    # Split data into train and test sets (80% train, 20% test)\n",
    "    train_size = int(0.8 * len(group))\n",
    "    train_data, test_data = group.iloc[:train_size], group.iloc[train_size:]\n",
    "    \n",
    "    # Create SARIMAX model\n",
    "    model = SARIMAX(train_data['ORDER_QTY'], order=(1, 1, 1), seasonal_order=(1, 1, 1, 12))\n",
    "    model_fit = model.fit(disp=False)\n",
    "    \n",
    "    # Forecast the next period\n",
    "    test_model = model_fit.get_forecast(steps=len(test_data))\n",
    "    test_df = test_model.predicted_mean\n",
    "    \n",
    "    # Calculate RMSE for order quantity\n",
    "    #rmse_order_qty = np.sqrt(mean_squared_error(test_data['ORDER_QTY'], forecast_order_qty))\n",
    "    \n",
    "    # Evaluate the model\n",
    "    rse = np.sqrt(((test_df - test_data) ** 2).sum().sum() / (test_data.shape[0] * test_data.shape[1] - len(model_fit.params)))\n",
    "    rmse = np.sqrt(mean_squared_error(test_data['ORDER_QTY'], test_df))\n",
    "    r2 = r2_score(test_data['ORDER_QTY'], test_df)\n",
    "\n",
    "    \n",
    "    date_list = test_df.index.to_list()\n",
    "    \n",
    "    new_row = {\n",
    "        'PRODUCT_ID': PRODUCT_ID,\n",
    "        'ORDER_DATE': date_list,\n",
    "        'test_forecast_order_qty': test_df,\n",
    "        'rse': rse,\n",
    "        'rmse': rmse,\n",
    "        'r2_score': r2\n",
    "    }\n",
    "    \n",
    "    df_new = pd.DataFrame(new_row)\n",
    "    test_results=pd.concat([test_results,df_new],ignore_index=True)\n",
    "    \n",
    "    # Forecast future values\n",
    "    forecast = model_fit.get_forecast(steps=25)#, steps=n_forecast)\n",
    "    forecast_df = forecast.predicted_mean\n",
    "    \n",
    "    date_list2= forecast_df.index.to_list()\n",
    "    \n",
    "    new_row2 = {\n",
    "        'PRODUCT_ID': PRODUCT_ID,\n",
    "        'ORDER_DATE': date_list2,\n",
    "        'forecast_order_qty': forecast_df,\n",
    "    }\n",
    "    \n",
    "    df_new2 = pd.DataFrame(new_row2)\n",
    "    \n",
    "    forecast_results=pd.concat([forecast_results,df_new2],ignore_index=True)"
   ]
  },
  {
   "cell_type": "code",
   "execution_count": 22,
   "id": "9d767975-6fad-4341-b010-9d198a373e22",
   "metadata": {},
   "outputs": [
    {
     "data": {
      "text/html": [
       "<div>\n",
       "<style scoped>\n",
       "    .dataframe tbody tr th:only-of-type {\n",
       "        vertical-align: middle;\n",
       "    }\n",
       "\n",
       "    .dataframe tbody tr th {\n",
       "        vertical-align: top;\n",
       "    }\n",
       "\n",
       "    .dataframe thead th {\n",
       "        text-align: right;\n",
       "    }\n",
       "</style>\n",
       "<table border=\"1\" class=\"dataframe\">\n",
       "  <thead>\n",
       "    <tr style=\"text-align: right;\">\n",
       "      <th></th>\n",
       "      <th>PRODUCT_ID</th>\n",
       "      <th>ORDER_DATE</th>\n",
       "      <th>test_forecast_order_qty</th>\n",
       "      <th>rse</th>\n",
       "      <th>rmse</th>\n",
       "      <th>r2_score</th>\n",
       "    </tr>\n",
       "  </thead>\n",
       "  <tbody>\n",
       "    <tr>\n",
       "      <th>0</th>\n",
       "      <td>Product_001</td>\n",
       "      <td>13530</td>\n",
       "      <td>537.353131</td>\n",
       "      <td>0.0</td>\n",
       "      <td>290.185585</td>\n",
       "      <td>-0.000545</td>\n",
       "    </tr>\n",
       "    <tr>\n",
       "      <th>1</th>\n",
       "      <td>Product_001</td>\n",
       "      <td>13531</td>\n",
       "      <td>549.804686</td>\n",
       "      <td>0.0</td>\n",
       "      <td>290.185585</td>\n",
       "      <td>-0.000545</td>\n",
       "    </tr>\n",
       "    <tr>\n",
       "      <th>2</th>\n",
       "      <td>Product_001</td>\n",
       "      <td>13532</td>\n",
       "      <td>538.368357</td>\n",
       "      <td>0.0</td>\n",
       "      <td>290.185585</td>\n",
       "      <td>-0.000545</td>\n",
       "    </tr>\n",
       "    <tr>\n",
       "      <th>3</th>\n",
       "      <td>Product_001</td>\n",
       "      <td>13533</td>\n",
       "      <td>553.529134</td>\n",
       "      <td>0.0</td>\n",
       "      <td>290.185585</td>\n",
       "      <td>-0.000545</td>\n",
       "    </tr>\n",
       "    <tr>\n",
       "      <th>4</th>\n",
       "      <td>Product_001</td>\n",
       "      <td>13534</td>\n",
       "      <td>525.990260</td>\n",
       "      <td>0.0</td>\n",
       "      <td>290.185585</td>\n",
       "      <td>-0.000545</td>\n",
       "    </tr>\n",
       "    <tr>\n",
       "      <th>...</th>\n",
       "      <td>...</td>\n",
       "      <td>...</td>\n",
       "      <td>...</td>\n",
       "      <td>...</td>\n",
       "      <td>...</td>\n",
       "      <td>...</td>\n",
       "    </tr>\n",
       "    <tr>\n",
       "      <th>51891</th>\n",
       "      <td>Product_100</td>\n",
       "      <td>3886</td>\n",
       "      <td>476.050933</td>\n",
       "      <td>0.0</td>\n",
       "      <td>295.283780</td>\n",
       "      <td>-0.021838</td>\n",
       "    </tr>\n",
       "    <tr>\n",
       "      <th>51892</th>\n",
       "      <td>Product_100</td>\n",
       "      <td>3887</td>\n",
       "      <td>522.781958</td>\n",
       "      <td>0.0</td>\n",
       "      <td>295.283780</td>\n",
       "      <td>-0.021838</td>\n",
       "    </tr>\n",
       "    <tr>\n",
       "      <th>51893</th>\n",
       "      <td>Product_100</td>\n",
       "      <td>3888</td>\n",
       "      <td>475.125436</td>\n",
       "      <td>0.0</td>\n",
       "      <td>295.283780</td>\n",
       "      <td>-0.021838</td>\n",
       "    </tr>\n",
       "    <tr>\n",
       "      <th>51894</th>\n",
       "      <td>Product_100</td>\n",
       "      <td>3889</td>\n",
       "      <td>498.165467</td>\n",
       "      <td>0.0</td>\n",
       "      <td>295.283780</td>\n",
       "      <td>-0.021838</td>\n",
       "    </tr>\n",
       "    <tr>\n",
       "      <th>51895</th>\n",
       "      <td>Product_100</td>\n",
       "      <td>3890</td>\n",
       "      <td>500.420893</td>\n",
       "      <td>0.0</td>\n",
       "      <td>295.283780</td>\n",
       "      <td>-0.021838</td>\n",
       "    </tr>\n",
       "  </tbody>\n",
       "</table>\n",
       "<p>51896 rows × 6 columns</p>\n",
       "</div>"
      ],
      "text/plain": [
       "        PRODUCT_ID ORDER_DATE  test_forecast_order_qty  rse        rmse  \\\n",
       "0      Product_001      13530               537.353131  0.0  290.185585   \n",
       "1      Product_001      13531               549.804686  0.0  290.185585   \n",
       "2      Product_001      13532               538.368357  0.0  290.185585   \n",
       "3      Product_001      13533               553.529134  0.0  290.185585   \n",
       "4      Product_001      13534               525.990260  0.0  290.185585   \n",
       "...            ...        ...                      ...  ...         ...   \n",
       "51891  Product_100       3886               476.050933  0.0  295.283780   \n",
       "51892  Product_100       3887               522.781958  0.0  295.283780   \n",
       "51893  Product_100       3888               475.125436  0.0  295.283780   \n",
       "51894  Product_100       3889               498.165467  0.0  295.283780   \n",
       "51895  Product_100       3890               500.420893  0.0  295.283780   \n",
       "\n",
       "       r2_score  \n",
       "0     -0.000545  \n",
       "1     -0.000545  \n",
       "2     -0.000545  \n",
       "3     -0.000545  \n",
       "4     -0.000545  \n",
       "...         ...  \n",
       "51891 -0.021838  \n",
       "51892 -0.021838  \n",
       "51893 -0.021838  \n",
       "51894 -0.021838  \n",
       "51895 -0.021838  \n",
       "\n",
       "[51896 rows x 6 columns]"
      ]
     },
     "execution_count": 22,
     "metadata": {},
     "output_type": "execute_result"
    }
   ],
   "source": [
    "test_results"
   ]
  },
  {
   "cell_type": "code",
   "execution_count": 23,
   "id": "af6c37fb-8d27-4a89-8473-196ec1283738",
   "metadata": {},
   "outputs": [
    {
     "data": {
      "text/html": [
       "<div>\n",
       "<style scoped>\n",
       "    .dataframe tbody tr th:only-of-type {\n",
       "        vertical-align: middle;\n",
       "    }\n",
       "\n",
       "    .dataframe tbody tr th {\n",
       "        vertical-align: top;\n",
       "    }\n",
       "\n",
       "    .dataframe thead th {\n",
       "        text-align: right;\n",
       "    }\n",
       "</style>\n",
       "<table border=\"1\" class=\"dataframe\">\n",
       "  <thead>\n",
       "    <tr style=\"text-align: right;\">\n",
       "      <th></th>\n",
       "      <th>PRODUCT_ID</th>\n",
       "      <th>ORDER_DATE</th>\n",
       "      <th>forecast_order_qty</th>\n",
       "    </tr>\n",
       "  </thead>\n",
       "  <tbody>\n",
       "    <tr>\n",
       "      <th>0</th>\n",
       "      <td>Product_001</td>\n",
       "      <td>13530</td>\n",
       "      <td>537.353131</td>\n",
       "    </tr>\n",
       "    <tr>\n",
       "      <th>1</th>\n",
       "      <td>Product_001</td>\n",
       "      <td>13531</td>\n",
       "      <td>549.804686</td>\n",
       "    </tr>\n",
       "    <tr>\n",
       "      <th>2</th>\n",
       "      <td>Product_001</td>\n",
       "      <td>13532</td>\n",
       "      <td>538.368357</td>\n",
       "    </tr>\n",
       "    <tr>\n",
       "      <th>3</th>\n",
       "      <td>Product_001</td>\n",
       "      <td>13533</td>\n",
       "      <td>553.529134</td>\n",
       "    </tr>\n",
       "    <tr>\n",
       "      <th>4</th>\n",
       "      <td>Product_001</td>\n",
       "      <td>13534</td>\n",
       "      <td>525.990260</td>\n",
       "    </tr>\n",
       "    <tr>\n",
       "      <th>...</th>\n",
       "      <td>...</td>\n",
       "      <td>...</td>\n",
       "      <td>...</td>\n",
       "    </tr>\n",
       "    <tr>\n",
       "      <th>1095</th>\n",
       "      <td>Product_100</td>\n",
       "      <td>3132</td>\n",
       "      <td>480.522295</td>\n",
       "    </tr>\n",
       "    <tr>\n",
       "      <th>1096</th>\n",
       "      <td>Product_100</td>\n",
       "      <td>3133</td>\n",
       "      <td>503.618313</td>\n",
       "    </tr>\n",
       "    <tr>\n",
       "      <th>1097</th>\n",
       "      <td>Product_100</td>\n",
       "      <td>3134</td>\n",
       "      <td>506.115285</td>\n",
       "    </tr>\n",
       "    <tr>\n",
       "      <th>1098</th>\n",
       "      <td>Product_100</td>\n",
       "      <td>3135</td>\n",
       "      <td>519.150990</td>\n",
       "    </tr>\n",
       "    <tr>\n",
       "      <th>1099</th>\n",
       "      <td>Product_100</td>\n",
       "      <td>3136</td>\n",
       "      <td>514.933607</td>\n",
       "    </tr>\n",
       "  </tbody>\n",
       "</table>\n",
       "<p>1100 rows × 3 columns</p>\n",
       "</div>"
      ],
      "text/plain": [
       "       PRODUCT_ID ORDER_DATE  forecast_order_qty\n",
       "0     Product_001      13530          537.353131\n",
       "1     Product_001      13531          549.804686\n",
       "2     Product_001      13532          538.368357\n",
       "3     Product_001      13533          553.529134\n",
       "4     Product_001      13534          525.990260\n",
       "...           ...        ...                 ...\n",
       "1095  Product_100       3132          480.522295\n",
       "1096  Product_100       3133          503.618313\n",
       "1097  Product_100       3134          506.115285\n",
       "1098  Product_100       3135          519.150990\n",
       "1099  Product_100       3136          514.933607\n",
       "\n",
       "[1100 rows x 3 columns]"
      ]
     },
     "execution_count": 23,
     "metadata": {},
     "output_type": "execute_result"
    }
   ],
   "source": [
    "forecast_results"
   ]
  },
  {
   "cell_type": "code",
   "execution_count": null,
   "id": "57a336ab-03c5-41bc-ae70-17edaf9d5ed3",
   "metadata": {},
   "outputs": [],
   "source": []
  }
 ],
 "metadata": {
  "kernelspec": {
   "display_name": "Python 3 (ipykernel)",
   "language": "python",
   "name": "python3"
  },
  "language_info": {
   "codemirror_mode": {
    "name": "ipython",
    "version": 3
   },
   "file_extension": ".py",
   "mimetype": "text/x-python",
   "name": "python",
   "nbconvert_exporter": "python",
   "pygments_lexer": "ipython3",
   "version": "3.9.19"
  }
 },
 "nbformat": 4,
 "nbformat_minor": 5
}
