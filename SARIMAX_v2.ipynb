{
 "cells": [
  {
   "cell_type": "code",
   "execution_count": 1,
   "id": "417a5e1e-5639-4aab-b61d-a497638d0bd2",
   "metadata": {
    "scrolled": true
   },
   "outputs": [
    {
     "name": "stdout",
     "output_type": "stream",
     "text": [
      "Collecting statsmodels\n",
      "\u001b[?25l  Downloading https://files.pythonhosted.org/packages/e7/54/4c8086e90a54b8e57ac8ad63fc38eea20aa6507fb975efdb6c72210744c9/statsmodels-0.14.2-cp39-cp39-manylinux_2_17_x86_64.manylinux2014_x86_64.whl (10.8MB)\n",
      "\u001b[K     |████████████████████████████████| 10.8MB 9.1MB/s eta 0:00:01\n",
      "\u001b[?25hRequirement already satisfied: numpy>=1.22.3 in /opt/conda/lib/python3.9/site-packages (from statsmodels) (1.26.4)\n",
      "Requirement already satisfied: packaging>=21.3 in /opt/conda/lib/python3.9/site-packages (from statsmodels) (23.2)\n",
      "Requirement already satisfied: patsy>=0.5.6 in /opt/conda/lib/python3.9/site-packages (from statsmodels) (0.5.6)\n",
      "Requirement already satisfied: pandas!=2.1.0,>=1.4 in /opt/conda/lib/python3.9/site-packages (from statsmodels) (2.2.0)\n",
      "Requirement already satisfied: scipy!=1.9.2,>=1.8 in /opt/conda/lib/python3.9/site-packages (from statsmodels) (1.13.1)\n",
      "Requirement already satisfied: six in /opt/conda/lib/python3.9/site-packages (from patsy>=0.5.6->statsmodels) (1.16.0)\n",
      "Requirement already satisfied: python-dateutil>=2.8.2 in /opt/conda/lib/python3.9/site-packages (from pandas!=2.1.0,>=1.4->statsmodels) (2.9.0.post0)\n",
      "Requirement already satisfied: pytz>=2020.1 in /opt/conda/lib/python3.9/site-packages (from pandas!=2.1.0,>=1.4->statsmodels) (2024.1)\n",
      "Requirement already satisfied: tzdata>=2022.7 in /opt/conda/lib/python3.9/site-packages (from pandas!=2.1.0,>=1.4->statsmodels) (2024.1)\n",
      "Installing collected packages: statsmodels\n",
      "Successfully installed statsmodels-0.14.2\n",
      "\u001b[33mWARNING: You are using pip version 19.3.1; however, version 24.2 is available.\n",
      "You should consider upgrading via the 'pip install --upgrade pip' command.\u001b[0m\n"
     ]
    }
   ],
   "source": [
    "!pip install statsmodels"
   ]
  },
  {
   "cell_type": "code",
   "execution_count": 1,
   "id": "19a58bc0-3e64-44c4-ace9-49708693d831",
   "metadata": {},
   "outputs": [],
   "source": [
    "\n",
    "import pandas as pd\n",
    "import numpy as np\n",
    "import statsmodels.api as sm\n",
    "from statsmodels.tsa.statespace.sarimax import SARIMAX\n",
    "from sklearn.metrics import mean_squared_error, r2_score"
   ]
  },
  {
   "cell_type": "code",
   "execution_count": 3,
   "id": "9aded9a3-1185-4918-a300-59f7a3d60295",
   "metadata": {},
   "outputs": [],
   "source": [
    "from fosforml.model_manager.snowflakesession import get_session\n",
    "my_session = get_session()\n",
    " \n",
    "table_name = '\"MONTHLY_DMD_v1\"'\n",
    " \n",
    "sf_df = my_session.sql(\"select * from {}\".format(table_name))\n",
    "df = sf_df.to_pandas()"
   ]
  },
  {
   "cell_type": "code",
   "execution_count": 5,
   "id": "e069aa2e-5e14-4cc0-8e79-8bc830375c35",
   "metadata": {},
   "outputs": [],
   "source": [
    "data = df[['PRODUCT_ID','ORDER_MONTH','ORDER_QTY']]"
   ]
  },
  {
   "cell_type": "code",
   "execution_count": 6,
   "id": "7a3746f0-edd4-4d99-bbe4-17c6bea9da65",
   "metadata": {},
   "outputs": [],
   "source": [
    "data['ORDER_MONTH'] = pd.to_datetime(data['ORDER_MONTH'])"
   ]
  },
  {
   "cell_type": "code",
   "execution_count": 7,
   "id": "56b306c4-6616-4b37-ac34-76993569fa59",
   "metadata": {},
   "outputs": [
    {
     "name": "stdout",
     "output_type": "stream",
     "text": [
      "<class 'pandas.core.frame.DataFrame'>\n",
      "RangeIndex: 2948 entries, 0 to 2947\n",
      "Data columns (total 3 columns):\n",
      " #   Column       Non-Null Count  Dtype         \n",
      "---  ------       --------------  -----         \n",
      " 0   PRODUCT_ID   2948 non-null   object        \n",
      " 1   ORDER_MONTH  2948 non-null   datetime64[ns]\n",
      " 2   ORDER_QTY    2948 non-null   int32         \n",
      "dtypes: datetime64[ns](1), int32(1), object(1)\n",
      "memory usage: 57.7+ KB\n"
     ]
    }
   ],
   "source": [
    "data.info()"
   ]
  },
  {
   "cell_type": "code",
   "execution_count": 8,
   "id": "83b7f133-e48e-499a-be26-00f497e3cf46",
   "metadata": {},
   "outputs": [],
   "source": [
    "data = data.set_index('ORDER_MONTH')"
   ]
  },
  {
   "cell_type": "code",
   "execution_count": 9,
   "id": "4286bb88-f560-47dd-9e00-5882a7ddc8f5",
   "metadata": {},
   "outputs": [],
   "source": [
    "data.sort_index(inplace=True)"
   ]
  },
  {
   "cell_type": "code",
   "execution_count": 10,
   "id": "4ee9230c-9d36-4ffc-9192-f40076ce1839",
   "metadata": {},
   "outputs": [
    {
     "data": {
      "text/html": [
       "<div>\n",
       "<style scoped>\n",
       "    .dataframe tbody tr th:only-of-type {\n",
       "        vertical-align: middle;\n",
       "    }\n",
       "\n",
       "    .dataframe tbody tr th {\n",
       "        vertical-align: top;\n",
       "    }\n",
       "\n",
       "    .dataframe thead th {\n",
       "        text-align: right;\n",
       "    }\n",
       "</style>\n",
       "<table border=\"1\" class=\"dataframe\">\n",
       "  <thead>\n",
       "    <tr style=\"text-align: right;\">\n",
       "      <th></th>\n",
       "      <th>PRODUCT_ID</th>\n",
       "      <th>ORDER_QTY</th>\n",
       "    </tr>\n",
       "    <tr>\n",
       "      <th>ORDER_MONTH</th>\n",
       "      <th></th>\n",
       "      <th></th>\n",
       "    </tr>\n",
       "  </thead>\n",
       "  <tbody>\n",
       "    <tr>\n",
       "      <th>2019-01-01</th>\n",
       "      <td>Product_001</td>\n",
       "      <td>171000</td>\n",
       "    </tr>\n",
       "    <tr>\n",
       "      <th>2019-01-01</th>\n",
       "      <td>Product_087</td>\n",
       "      <td>38850</td>\n",
       "    </tr>\n",
       "    <tr>\n",
       "      <th>2019-01-01</th>\n",
       "      <td>Product_019</td>\n",
       "      <td>85050</td>\n",
       "    </tr>\n",
       "    <tr>\n",
       "      <th>2019-01-01</th>\n",
       "      <td>Product_086</td>\n",
       "      <td>39100</td>\n",
       "    </tr>\n",
       "    <tr>\n",
       "      <th>2019-01-01</th>\n",
       "      <td>Product_085</td>\n",
       "      <td>30100</td>\n",
       "    </tr>\n",
       "    <tr>\n",
       "      <th>...</th>\n",
       "      <td>...</td>\n",
       "      <td>...</td>\n",
       "    </tr>\n",
       "    <tr>\n",
       "      <th>2024-07-01</th>\n",
       "      <td>Product_001</td>\n",
       "      <td>182050</td>\n",
       "    </tr>\n",
       "    <tr>\n",
       "      <th>2024-07-01</th>\n",
       "      <td>Product_078</td>\n",
       "      <td>49950</td>\n",
       "    </tr>\n",
       "    <tr>\n",
       "      <th>2024-07-01</th>\n",
       "      <td>Product_074</td>\n",
       "      <td>34900</td>\n",
       "    </tr>\n",
       "    <tr>\n",
       "      <th>2024-07-01</th>\n",
       "      <td>Product_071</td>\n",
       "      <td>38600</td>\n",
       "    </tr>\n",
       "    <tr>\n",
       "      <th>2024-07-01</th>\n",
       "      <td>Product_072</td>\n",
       "      <td>44550</td>\n",
       "    </tr>\n",
       "  </tbody>\n",
       "</table>\n",
       "<p>2948 rows × 2 columns</p>\n",
       "</div>"
      ],
      "text/plain": [
       "              PRODUCT_ID  ORDER_QTY\n",
       "ORDER_MONTH                        \n",
       "2019-01-01   Product_001     171000\n",
       "2019-01-01   Product_087      38850\n",
       "2019-01-01   Product_019      85050\n",
       "2019-01-01   Product_086      39100\n",
       "2019-01-01   Product_085      30100\n",
       "...                  ...        ...\n",
       "2024-07-01   Product_001     182050\n",
       "2024-07-01   Product_078      49950\n",
       "2024-07-01   Product_074      34900\n",
       "2024-07-01   Product_071      38600\n",
       "2024-07-01   Product_072      44550\n",
       "\n",
       "[2948 rows x 2 columns]"
      ]
     },
     "execution_count": 10,
     "metadata": {},
     "output_type": "execute_result"
    }
   ],
   "source": [
    "data"
   ]
  },
  {
   "cell_type": "code",
   "execution_count": 11,
   "id": "6069c523-7ed4-4657-b13c-63d360da9d33",
   "metadata": {},
   "outputs": [],
   "source": [
    "# Group data by 'product_id'\n",
    "grouped_data = data.groupby('PRODUCT_ID')"
   ]
  },
  {
   "cell_type": "code",
   "execution_count": 12,
   "id": "25c8a4e9-83b0-44e7-85d7-c7842bce44d9",
   "metadata": {},
   "outputs": [],
   "source": [
    "# Initialize an empty DataFrame for forecast results\n",
    "test_results = pd.DataFrame(columns=['product_id','order_date', 'test_forecast_orders','rse', 'rmse','r2_score'])"
   ]
  },
  {
   "cell_type": "code",
   "execution_count": 13,
   "id": "8056c701-81a5-4a97-b963-b221da4a4ff6",
   "metadata": {},
   "outputs": [],
   "source": [
    "# Initialize an empty DataFrame for forecast results\n",
    "forecast_results = pd.DataFrame(columns=['product_id','order_date', 'forecast_order_qty'])"
   ]
  },
  {
   "cell_type": "code",
   "execution_count": 14,
   "id": "f5975b12-c43f-4c1e-92ad-30844926c5ab",
   "metadata": {},
   "outputs": [],
   "source": [
    "for product_id, group in grouped_data:\n",
    "    # Sort data by order date\n",
    "    group.sort_index(inplace=True)\n",
    "    \n",
    "    # Split data into train and test sets (80% train, 20% test)\n",
    "    train_size = int(0.8 * len(group))\n",
    "    train_data, test_data = group.iloc[:train_size], group.iloc[train_size:]\n",
    "    \n",
    "    # Create SARIMAX model\n",
    "    model = SARIMAX(train_data['ORDER_QTY'], order=(1, 1, 1), seasonal_order=(1, 1, 1, 12))\n",
    "    model_fit = model.fit(disp=False)\n",
    "    \n",
    "    # Forecast the next period\n",
    "    test_model = model_fit.get_forecast(steps=len(test_data))\n",
    "    test_df = test_model.predicted_mean\n",
    "    \n",
    "    # Calculate RMSE for order quantity\n",
    "    #rmse_order_qty = np.sqrt(mean_squared_error(test_data['ORDER_QTY'], forecast_order_qty))\n",
    "    \n",
    "    # Evaluate the model\n",
    "    rse = np.sqrt(((test_df - test_data) ** 2).sum().sum() / (test_data.shape[0] * test_data.shape[1] - len(model_fit.params)))\n",
    "    rmse = np.sqrt(mean_squared_error(test_data['ORDER_QTY'], test_df))\n",
    "    r2 = r2_score(test_data['ORDER_QTY'], test_df)\n",
    "\n",
    "    \n",
    "    date_list = test_df.index.to_list()\n",
    "    \n",
    "    new_row = {\n",
    "        'product_id': product_id,\n",
    "        'order_date': date_list,\n",
    "        'test_forecast_orders': test_df,\n",
    "        'rse': rse,\n",
    "        'rmse': rmse,\n",
    "        'r2_score': r2\n",
    "    }\n",
    "    \n",
    "    df_new = pd.DataFrame(new_row)\n",
    "    test_results=pd.concat([test_results,df_new],ignore_index=True)\n",
    "    \n",
    "    # Forecast future values\n",
    "    forecast = model_fit.get_forecast(steps=25)#, steps=n_forecast)\n",
    "    forecast_df = forecast.predicted_mean\n",
    "    \n",
    "    date_list2= forecast_df.index.to_list()\n",
    "    \n",
    "    new_row2 = {\n",
    "        'product_id': product_id,\n",
    "        'order_date': date_list2,\n",
    "        'forecast_order_qty': forecast_df,\n",
    "    }\n",
    "    \n",
    "    df_new2 = pd.DataFrame(new_row2)\n",
    "    \n",
    "    forecast_results=pd.concat([forecast_results,df_new2],ignore_index=True)"
   ]
  },
  {
   "cell_type": "code",
   "execution_count": 15,
   "id": "0de89f2f-73a8-4c48-9a55-77c93bad0129",
   "metadata": {},
   "outputs": [
    {
     "data": {
      "text/html": [
       "<div>\n",
       "<style scoped>\n",
       "    .dataframe tbody tr th:only-of-type {\n",
       "        vertical-align: middle;\n",
       "    }\n",
       "\n",
       "    .dataframe tbody tr th {\n",
       "        vertical-align: top;\n",
       "    }\n",
       "\n",
       "    .dataframe thead th {\n",
       "        text-align: right;\n",
       "    }\n",
       "</style>\n",
       "<table border=\"1\" class=\"dataframe\">\n",
       "  <thead>\n",
       "    <tr style=\"text-align: right;\">\n",
       "      <th></th>\n",
       "      <th>product_id</th>\n",
       "      <th>order_date</th>\n",
       "      <th>test_forecast_orders</th>\n",
       "      <th>rse</th>\n",
       "      <th>rmse</th>\n",
       "      <th>r2_score</th>\n",
       "    </tr>\n",
       "  </thead>\n",
       "  <tbody>\n",
       "    <tr>\n",
       "      <th>0</th>\n",
       "      <td>Product_001</td>\n",
       "      <td>2023-06-01</td>\n",
       "      <td>161665.764497</td>\n",
       "      <td>0.0</td>\n",
       "      <td>13419.128597</td>\n",
       "      <td>0.437121</td>\n",
       "    </tr>\n",
       "    <tr>\n",
       "      <th>1</th>\n",
       "      <td>Product_001</td>\n",
       "      <td>2023-07-01</td>\n",
       "      <td>159095.529480</td>\n",
       "      <td>0.0</td>\n",
       "      <td>13419.128597</td>\n",
       "      <td>0.437121</td>\n",
       "    </tr>\n",
       "    <tr>\n",
       "      <th>2</th>\n",
       "      <td>Product_001</td>\n",
       "      <td>2023-08-01</td>\n",
       "      <td>137134.458693</td>\n",
       "      <td>0.0</td>\n",
       "      <td>13419.128597</td>\n",
       "      <td>0.437121</td>\n",
       "    </tr>\n",
       "    <tr>\n",
       "      <th>3</th>\n",
       "      <td>Product_001</td>\n",
       "      <td>2023-09-01</td>\n",
       "      <td>129698.559422</td>\n",
       "      <td>0.0</td>\n",
       "      <td>13419.128597</td>\n",
       "      <td>0.437121</td>\n",
       "    </tr>\n",
       "    <tr>\n",
       "      <th>4</th>\n",
       "      <td>Product_001</td>\n",
       "      <td>2023-10-01</td>\n",
       "      <td>150450.869655</td>\n",
       "      <td>0.0</td>\n",
       "      <td>13419.128597</td>\n",
       "      <td>0.437121</td>\n",
       "    </tr>\n",
       "    <tr>\n",
       "      <th>...</th>\n",
       "      <td>...</td>\n",
       "      <td>...</td>\n",
       "      <td>...</td>\n",
       "      <td>...</td>\n",
       "      <td>...</td>\n",
       "      <td>...</td>\n",
       "    </tr>\n",
       "    <tr>\n",
       "      <th>611</th>\n",
       "      <td>Product_100</td>\n",
       "      <td>2024-03-01</td>\n",
       "      <td>38844.787461</td>\n",
       "      <td>0.0</td>\n",
       "      <td>6671.280251</td>\n",
       "      <td>-0.933250</td>\n",
       "    </tr>\n",
       "    <tr>\n",
       "      <th>612</th>\n",
       "      <td>Product_100</td>\n",
       "      <td>2024-04-01</td>\n",
       "      <td>26714.851510</td>\n",
       "      <td>0.0</td>\n",
       "      <td>6671.280251</td>\n",
       "      <td>-0.933250</td>\n",
       "    </tr>\n",
       "    <tr>\n",
       "      <th>613</th>\n",
       "      <td>Product_100</td>\n",
       "      <td>2024-05-01</td>\n",
       "      <td>31208.430045</td>\n",
       "      <td>0.0</td>\n",
       "      <td>6671.280251</td>\n",
       "      <td>-0.933250</td>\n",
       "    </tr>\n",
       "    <tr>\n",
       "      <th>614</th>\n",
       "      <td>Product_100</td>\n",
       "      <td>2024-06-01</td>\n",
       "      <td>38355.519216</td>\n",
       "      <td>0.0</td>\n",
       "      <td>6671.280251</td>\n",
       "      <td>-0.933250</td>\n",
       "    </tr>\n",
       "    <tr>\n",
       "      <th>615</th>\n",
       "      <td>Product_100</td>\n",
       "      <td>2024-07-01</td>\n",
       "      <td>26933.763973</td>\n",
       "      <td>0.0</td>\n",
       "      <td>6671.280251</td>\n",
       "      <td>-0.933250</td>\n",
       "    </tr>\n",
       "  </tbody>\n",
       "</table>\n",
       "<p>616 rows × 6 columns</p>\n",
       "</div>"
      ],
      "text/plain": [
       "      product_id order_date  test_forecast_orders  rse          rmse  r2_score\n",
       "0    Product_001 2023-06-01         161665.764497  0.0  13419.128597  0.437121\n",
       "1    Product_001 2023-07-01         159095.529480  0.0  13419.128597  0.437121\n",
       "2    Product_001 2023-08-01         137134.458693  0.0  13419.128597  0.437121\n",
       "3    Product_001 2023-09-01         129698.559422  0.0  13419.128597  0.437121\n",
       "4    Product_001 2023-10-01         150450.869655  0.0  13419.128597  0.437121\n",
       "..           ...        ...                   ...  ...           ...       ...\n",
       "611  Product_100 2024-03-01          38844.787461  0.0   6671.280251 -0.933250\n",
       "612  Product_100 2024-04-01          26714.851510  0.0   6671.280251 -0.933250\n",
       "613  Product_100 2024-05-01          31208.430045  0.0   6671.280251 -0.933250\n",
       "614  Product_100 2024-06-01          38355.519216  0.0   6671.280251 -0.933250\n",
       "615  Product_100 2024-07-01          26933.763973  0.0   6671.280251 -0.933250\n",
       "\n",
       "[616 rows x 6 columns]"
      ]
     },
     "execution_count": 15,
     "metadata": {},
     "output_type": "execute_result"
    }
   ],
   "source": [
    "test_results"
   ]
  },
  {
   "cell_type": "code",
   "execution_count": null,
   "id": "5fb76d0a-7c03-4181-8cfb-88e26ea3313f",
   "metadata": {},
   "outputs": [],
   "source": [
    "forecast_results"
   ]
  },
  {
   "cell_type": "code",
   "execution_count": 20,
   "id": "c432e984-4865-4e57-9ec9-9a90bae58630",
   "metadata": {},
   "outputs": [
    {
     "name": "stdout",
     "output_type": "stream",
     "text": [
      "<class 'pandas.core.frame.DataFrame'>\n",
      "RangeIndex: 616 entries, 0 to 615\n",
      "Data columns (total 6 columns):\n",
      " #   Column                Non-Null Count  Dtype         \n",
      "---  ------                --------------  -----         \n",
      " 0   product_id            616 non-null    object        \n",
      " 1   order_date            616 non-null    datetime64[ns]\n",
      " 2   test_forecast_orders  616 non-null    float64       \n",
      " 3   rse                   616 non-null    float64       \n",
      " 4   rmse                  616 non-null    float64       \n",
      " 5   r2_score              616 non-null    float64       \n",
      "dtypes: datetime64[ns](1), float64(4), object(1)\n",
      "memory usage: 29.0+ KB\n"
     ]
    }
   ],
   "source": [
    "test_results.info()"
   ]
  },
  {
   "cell_type": "code",
   "execution_count": 22,
   "id": "9a590a13-a9ec-4efd-8828-4cad2c218c90",
   "metadata": {},
   "outputs": [
    {
     "name": "stdout",
     "output_type": "stream",
     "text": [
      "------------------------------------------------------------------------------------------------------------------\n",
      "|\"product_id\"  |\"order_date\"         |\"test_forecast_orders\"  |\"rse\"  |\"rmse\"              |\"r2_score\"           |\n",
      "------------------------------------------------------------------------------------------------------------------\n",
      "|Product_001   |2023-06-01 00:00:00  |161665.76449723775      |0.0    |13419.128596617618  |0.43712070636724043  |\n",
      "|Product_001   |2023-07-01 00:00:00  |159095.52947978332      |0.0    |13419.128596617618  |0.43712070636724043  |\n",
      "|Product_001   |2023-08-01 00:00:00  |137134.45869321877      |0.0    |13419.128596617618  |0.43712070636724043  |\n",
      "|Product_001   |2023-09-01 00:00:00  |129698.55942177543      |0.0    |13419.128596617618  |0.43712070636724043  |\n",
      "|Product_001   |2023-10-01 00:00:00  |150450.86965511978      |0.0    |13419.128596617618  |0.43712070636724043  |\n",
      "|Product_001   |2023-11-01 00:00:00  |146835.26561759668      |0.0    |13419.128596617618  |0.43712070636724043  |\n",
      "|Product_001   |2023-12-01 00:00:00  |146980.05314085158      |0.0    |13419.128596617618  |0.43712070636724043  |\n",
      "|Product_001   |2024-01-01 00:00:00  |163679.86302398637      |0.0    |13419.128596617618  |0.43712070636724043  |\n",
      "|Product_001   |2024-02-01 00:00:00  |156849.57526935427      |0.0    |13419.128596617618  |0.43712070636724043  |\n",
      "|Product_001   |2024-03-01 00:00:00  |163978.67954817638      |0.0    |13419.128596617618  |0.43712070636724043  |\n",
      "------------------------------------------------------------------------------------------------------------------\n",
      "\n"
     ]
    }
   ],
   "source": [
    "sf_df = my_session.createDataFrame(test_results)\n",
    "sf_df.write.mode(\"overwrite\").save_as_table(\"ORDER_FORECAST_TEST\")\n",
    "my_session.table(\"ORDER_FORECAST_TEST\").show()"
   ]
  },
  {
   "cell_type": "code",
   "execution_count": 23,
   "id": "1f7d603b-7634-4bbc-8be5-8665fc8c502f",
   "metadata": {},
   "outputs": [
    {
     "name": "stdout",
     "output_type": "stream",
     "text": [
      "-------------------------------------------------------------\n",
      "|\"product_id\"  |\"order_date\"         |\"forecast_order_qty\"  |\n",
      "-------------------------------------------------------------\n",
      "|Product_001   |2023-06-01 00:00:00  |161665.76449723775    |\n",
      "|Product_001   |2023-07-01 00:00:00  |159095.52947978332    |\n",
      "|Product_001   |2023-08-01 00:00:00  |137134.45869321877    |\n",
      "|Product_001   |2023-09-01 00:00:00  |129698.55942177543    |\n",
      "|Product_001   |2023-10-01 00:00:00  |150450.86965511978    |\n",
      "|Product_001   |2023-11-01 00:00:00  |146835.26561759668    |\n",
      "|Product_001   |2023-12-01 00:00:00  |146980.05314085158    |\n",
      "|Product_001   |2024-01-01 00:00:00  |163679.86302398637    |\n",
      "|Product_001   |2024-02-01 00:00:00  |156849.57526935427    |\n",
      "|Product_001   |2024-03-01 00:00:00  |163978.67954817638    |\n",
      "-------------------------------------------------------------\n",
      "\n"
     ]
    }
   ],
   "source": [
    "sf_df = my_session.createDataFrame(forecast_results)\n",
    "sf_df.write.mode(\"overwrite\").save_as_table(\"ORDER_FORECAST\")\n",
    "my_session.table(\"ORDER_FORECAST\").show()"
   ]
  },
  {
   "cell_type": "code",
   "execution_count": null,
   "id": "cc399d13-bbfa-403b-8eac-a5dac23261f2",
   "metadata": {},
   "outputs": [],
   "source": []
  }
 ],
 "metadata": {
  "kernelspec": {
   "display_name": "Python 3 (ipykernel)",
   "language": "python",
   "name": "python3"
  },
  "language_info": {
   "codemirror_mode": {
    "name": "ipython",
    "version": 3
   },
   "file_extension": ".py",
   "mimetype": "text/x-python",
   "name": "python",
   "nbconvert_exporter": "python",
   "pygments_lexer": "ipython3",
   "version": "3.9.19"
  }
 },
 "nbformat": 4,
 "nbformat_minor": 5
}
