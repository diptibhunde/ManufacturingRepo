{
 "cells": [
  {
   "cell_type": "code",
   "execution_count": null,
   "id": "51b639fa-6ecc-4f76-a216-e936d6729df7",
   "metadata": {},
   "outputs": [],
   "source": []
  }
 ],
 "metadata": {
  "kernelspec": {
   "display_name": "",
   "name": ""
  },
  "language_info": {
   "name": ""
  }
 },
 "nbformat": 4,
 "nbformat_minor": 5
}
