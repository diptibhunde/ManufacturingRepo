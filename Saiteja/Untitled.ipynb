{
 "cells": [
  {
   "cell_type": "code",
   "execution_count": 1,
   "id": "81fe0e21-44b2-48f2-b3b4-4fd35183a228",
   "metadata": {},
   "outputs": [
    {
     "name": "stdout",
     "output_type": "stream",
     "text": [
      "Requirement already satisfied: statsmodels in /opt/conda/lib/python3.9/site-packages (0.14.3)\n",
      "Requirement already satisfied: pandas!=2.1.0,>=1.4 in /opt/conda/lib/python3.9/site-packages (from statsmodels) (2.2.0)\n",
      "Requirement already satisfied: patsy>=0.5.6 in /opt/conda/lib/python3.9/site-packages (from statsmodels) (0.5.6)\n",
      "Requirement already satisfied: packaging>=21.3 in /opt/conda/lib/python3.9/site-packages (from statsmodels) (23.2)\n",
      "Requirement already satisfied: scipy!=1.9.2,>=1.8 in /opt/conda/lib/python3.9/site-packages (from statsmodels) (1.13.1)\n",
      "Requirement already satisfied: numpy<3,>=1.22.3 in /opt/conda/lib/python3.9/site-packages (from statsmodels) (1.26.4)\n",
      "Requirement already satisfied: tzdata>=2022.7 in /opt/conda/lib/python3.9/site-packages (from pandas!=2.1.0,>=1.4->statsmodels) (2024.1)\n",
      "Requirement already satisfied: python-dateutil>=2.8.2 in /opt/conda/lib/python3.9/site-packages (from pandas!=2.1.0,>=1.4->statsmodels) (2.9.0.post0)\n",
      "Requirement already satisfied: pytz>=2020.1 in /opt/conda/lib/python3.9/site-packages (from pandas!=2.1.0,>=1.4->statsmodels) (2024.1)\n",
      "Requirement already satisfied: six in /opt/conda/lib/python3.9/site-packages (from patsy>=0.5.6->statsmodels) (1.16.0)\n",
      "\u001b[33mWARNING: You are using pip version 19.3.1; however, version 24.2 is available.\n",
      "You should consider upgrading via the 'pip install --upgrade pip' command.\u001b[0m\n"
     ]
    }
   ],
   "source": [
    "!pip install statsmodels"
   ]
  },
  {
   "cell_type": "code",
   "execution_count": 2,
   "id": "0032f2a1-bff1-4cae-90ec-41a085f69eed",
   "metadata": {},
   "outputs": [],
   "source": [
    "import pandas as pd\n",
    "import numpy as np\n",
    "import statsmodels.api as sm\n",
    "from statsmodels.tsa.statespace.sarimax import SARIMAX\n",
    "from sklearn.metrics import mean_squared_error, r2_score"
   ]
  },
  {
   "cell_type": "code",
   "execution_count": 3,
   "id": "8a25a838-bb17-46c2-b080-f6e81e49b7ed",
   "metadata": {},
   "outputs": [],
   "source": [
    "from fosforml.model_manager.snowflakesession import get_session\n",
    "my_session = get_session()\n",
    " \n",
    "table_name = '\"FACT_CUSTOMER_ORDERS\"'\n",
    " \n",
    "sf_df = my_session.sql(\"select * from {}\".format(table_name))\n",
    "df = sf_df.to_pandas()"
   ]
  },
  {
   "cell_type": "code",
   "execution_count": 4,
   "id": "7a71b9d2-21ce-41b0-8e1d-a92461606b6b",
   "metadata": {},
   "outputs": [],
   "source": [
    "data = df[['PRODUCT_ID','ORDER_DATE','ORDER_QTY']]"
   ]
  },
  {
   "cell_type": "code",
   "execution_count": 5,
   "id": "67b32359-ff00-462c-8fa6-77492009ea4d",
   "metadata": {},
   "outputs": [
    {
     "data": {
      "text/html": [
       "<div>\n",
       "<style scoped>\n",
       "    .dataframe tbody tr th:only-of-type {\n",
       "        vertical-align: middle;\n",
       "    }\n",
       "\n",
       "    .dataframe tbody tr th {\n",
       "        vertical-align: top;\n",
       "    }\n",
       "\n",
       "    .dataframe thead th {\n",
       "        text-align: right;\n",
       "    }\n",
       "</style>\n",
       "<table border=\"1\" class=\"dataframe\">\n",
       "  <thead>\n",
       "    <tr style=\"text-align: right;\">\n",
       "      <th></th>\n",
       "      <th>PRODUCT_ID</th>\n",
       "      <th>ORDER_DATE</th>\n",
       "      <th>ORDER_QTY</th>\n",
       "    </tr>\n",
       "  </thead>\n",
       "  <tbody>\n",
       "    <tr>\n",
       "      <th>0</th>\n",
       "      <td>Product_001</td>\n",
       "      <td>2019-01-02</td>\n",
       "      <td>850</td>\n",
       "    </tr>\n",
       "    <tr>\n",
       "      <th>1</th>\n",
       "      <td>Product_004</td>\n",
       "      <td>2019-01-02</td>\n",
       "      <td>700</td>\n",
       "    </tr>\n",
       "    <tr>\n",
       "      <th>2</th>\n",
       "      <td>Product_004</td>\n",
       "      <td>2019-01-02</td>\n",
       "      <td>900</td>\n",
       "    </tr>\n",
       "    <tr>\n",
       "      <th>3</th>\n",
       "      <td>Product_004</td>\n",
       "      <td>2019-01-02</td>\n",
       "      <td>550</td>\n",
       "    </tr>\n",
       "    <tr>\n",
       "      <th>4</th>\n",
       "      <td>Product_004</td>\n",
       "      <td>2019-01-02</td>\n",
       "      <td>300</td>\n",
       "    </tr>\n",
       "    <tr>\n",
       "      <th>...</th>\n",
       "      <td>...</td>\n",
       "      <td>...</td>\n",
       "      <td>...</td>\n",
       "    </tr>\n",
       "    <tr>\n",
       "      <th>225558</th>\n",
       "      <td>Product_098</td>\n",
       "      <td>2024-08-31</td>\n",
       "      <td>200</td>\n",
       "    </tr>\n",
       "    <tr>\n",
       "      <th>225559</th>\n",
       "      <td>Product_100</td>\n",
       "      <td>2024-08-31</td>\n",
       "      <td>800</td>\n",
       "    </tr>\n",
       "    <tr>\n",
       "      <th>225560</th>\n",
       "      <td>Product_100</td>\n",
       "      <td>2024-08-31</td>\n",
       "      <td>550</td>\n",
       "    </tr>\n",
       "    <tr>\n",
       "      <th>225561</th>\n",
       "      <td>Product_100</td>\n",
       "      <td>2024-08-31</td>\n",
       "      <td>850</td>\n",
       "    </tr>\n",
       "    <tr>\n",
       "      <th>225562</th>\n",
       "      <td>Product_100</td>\n",
       "      <td>2024-08-31</td>\n",
       "      <td>300</td>\n",
       "    </tr>\n",
       "  </tbody>\n",
       "</table>\n",
       "<p>225563 rows × 3 columns</p>\n",
       "</div>"
      ],
      "text/plain": [
       "         PRODUCT_ID  ORDER_DATE  ORDER_QTY\n",
       "0       Product_001  2019-01-02        850\n",
       "1       Product_004  2019-01-02        700\n",
       "2       Product_004  2019-01-02        900\n",
       "3       Product_004  2019-01-02        550\n",
       "4       Product_004  2019-01-02        300\n",
       "...             ...         ...        ...\n",
       "225558  Product_098  2024-08-31        200\n",
       "225559  Product_100  2024-08-31        800\n",
       "225560  Product_100  2024-08-31        550\n",
       "225561  Product_100  2024-08-31        850\n",
       "225562  Product_100  2024-08-31        300\n",
       "\n",
       "[225563 rows x 3 columns]"
      ]
     },
     "execution_count": 5,
     "metadata": {},
     "output_type": "execute_result"
    }
   ],
   "source": [
    "data"
   ]
  },
  {
   "cell_type": "code",
   "execution_count": 6,
   "id": "de634c2d-9927-4d1a-98f8-d295e62c4a4d",
   "metadata": {},
   "outputs": [
    {
     "name": "stdout",
     "output_type": "stream",
     "text": [
      "<class 'pandas.core.frame.DataFrame'>\n",
      "RangeIndex: 225563 entries, 0 to 225562\n",
      "Data columns (total 3 columns):\n",
      " #   Column      Non-Null Count   Dtype \n",
      "---  ------      --------------   ----- \n",
      " 0   PRODUCT_ID  225563 non-null  object\n",
      " 1   ORDER_DATE  225563 non-null  object\n",
      " 2   ORDER_QTY   225563 non-null  int16 \n",
      "dtypes: int16(1), object(2)\n",
      "memory usage: 3.9+ MB\n"
     ]
    }
   ],
   "source": [
    "data.info()"
   ]
  },
  {
   "cell_type": "code",
   "execution_count": 7,
   "id": "9f1bd390-f828-45f6-80e1-df9cea8baf98",
   "metadata": {},
   "outputs": [],
   "source": [
    "data['ORDER_DATE'] = pd.to_datetime(data['ORDER_DATE'])"
   ]
  },
  {
   "cell_type": "code",
   "execution_count": 8,
   "id": "373091a4-528a-471b-b6bf-ad4ffbac420c",
   "metadata": {},
   "outputs": [
    {
     "data": {
      "text/html": [
       "<div>\n",
       "<style scoped>\n",
       "    .dataframe tbody tr th:only-of-type {\n",
       "        vertical-align: middle;\n",
       "    }\n",
       "\n",
       "    .dataframe tbody tr th {\n",
       "        vertical-align: top;\n",
       "    }\n",
       "\n",
       "    .dataframe thead th {\n",
       "        text-align: right;\n",
       "    }\n",
       "</style>\n",
       "<table border=\"1\" class=\"dataframe\">\n",
       "  <thead>\n",
       "    <tr style=\"text-align: right;\">\n",
       "      <th></th>\n",
       "      <th>PRODUCT_ID</th>\n",
       "      <th>ORDER_DATE</th>\n",
       "      <th>ORDER_QTY</th>\n",
       "    </tr>\n",
       "  </thead>\n",
       "  <tbody>\n",
       "    <tr>\n",
       "      <th>0</th>\n",
       "      <td>Product_001</td>\n",
       "      <td>2019-01-02</td>\n",
       "      <td>850</td>\n",
       "    </tr>\n",
       "    <tr>\n",
       "      <th>1</th>\n",
       "      <td>Product_004</td>\n",
       "      <td>2019-01-02</td>\n",
       "      <td>700</td>\n",
       "    </tr>\n",
       "    <tr>\n",
       "      <th>2</th>\n",
       "      <td>Product_004</td>\n",
       "      <td>2019-01-02</td>\n",
       "      <td>900</td>\n",
       "    </tr>\n",
       "    <tr>\n",
       "      <th>3</th>\n",
       "      <td>Product_004</td>\n",
       "      <td>2019-01-02</td>\n",
       "      <td>550</td>\n",
       "    </tr>\n",
       "    <tr>\n",
       "      <th>4</th>\n",
       "      <td>Product_004</td>\n",
       "      <td>2019-01-02</td>\n",
       "      <td>300</td>\n",
       "    </tr>\n",
       "    <tr>\n",
       "      <th>...</th>\n",
       "      <td>...</td>\n",
       "      <td>...</td>\n",
       "      <td>...</td>\n",
       "    </tr>\n",
       "    <tr>\n",
       "      <th>225558</th>\n",
       "      <td>Product_098</td>\n",
       "      <td>2024-08-31</td>\n",
       "      <td>200</td>\n",
       "    </tr>\n",
       "    <tr>\n",
       "      <th>225559</th>\n",
       "      <td>Product_100</td>\n",
       "      <td>2024-08-31</td>\n",
       "      <td>800</td>\n",
       "    </tr>\n",
       "    <tr>\n",
       "      <th>225560</th>\n",
       "      <td>Product_100</td>\n",
       "      <td>2024-08-31</td>\n",
       "      <td>550</td>\n",
       "    </tr>\n",
       "    <tr>\n",
       "      <th>225561</th>\n",
       "      <td>Product_100</td>\n",
       "      <td>2024-08-31</td>\n",
       "      <td>850</td>\n",
       "    </tr>\n",
       "    <tr>\n",
       "      <th>225562</th>\n",
       "      <td>Product_100</td>\n",
       "      <td>2024-08-31</td>\n",
       "      <td>300</td>\n",
       "    </tr>\n",
       "  </tbody>\n",
       "</table>\n",
       "<p>225563 rows × 3 columns</p>\n",
       "</div>"
      ],
      "text/plain": [
       "         PRODUCT_ID ORDER_DATE  ORDER_QTY\n",
       "0       Product_001 2019-01-02        850\n",
       "1       Product_004 2019-01-02        700\n",
       "2       Product_004 2019-01-02        900\n",
       "3       Product_004 2019-01-02        550\n",
       "4       Product_004 2019-01-02        300\n",
       "...             ...        ...        ...\n",
       "225558  Product_098 2024-08-31        200\n",
       "225559  Product_100 2024-08-31        800\n",
       "225560  Product_100 2024-08-31        550\n",
       "225561  Product_100 2024-08-31        850\n",
       "225562  Product_100 2024-08-31        300\n",
       "\n",
       "[225563 rows x 3 columns]"
      ]
     },
     "execution_count": 8,
     "metadata": {},
     "output_type": "execute_result"
    }
   ],
   "source": [
    "data"
   ]
  },
  {
   "cell_type": "code",
   "execution_count": 9,
   "id": "c6817834-01c8-48f5-aad2-237e87886907",
   "metadata": {},
   "outputs": [
    {
     "name": "stdout",
     "output_type": "stream",
     "text": [
      "<class 'pandas.core.frame.DataFrame'>\n",
      "RangeIndex: 225563 entries, 0 to 225562\n",
      "Data columns (total 3 columns):\n",
      " #   Column      Non-Null Count   Dtype         \n",
      "---  ------      --------------   -----         \n",
      " 0   PRODUCT_ID  225563 non-null  object        \n",
      " 1   ORDER_DATE  225563 non-null  datetime64[ns]\n",
      " 2   ORDER_QTY   225563 non-null  int16         \n",
      "dtypes: datetime64[ns](1), int16(1), object(1)\n",
      "memory usage: 3.9+ MB\n"
     ]
    }
   ],
   "source": [
    "data.info()"
   ]
  },
  {
   "cell_type": "code",
   "execution_count": 10,
   "id": "d72b1a16-03fb-4512-b04e-223fd3cd698f",
   "metadata": {},
   "outputs": [],
   "source": [
    "# Group data by 'product_id'\n",
    "grouped_data = data.groupby('PRODUCT_ID')"
   ]
  },
  {
   "cell_type": "code",
   "execution_count": 11,
   "id": "609f7346-3e1d-4f0b-8396-e6d8bc348d9d",
   "metadata": {},
   "outputs": [],
   "source": [
    "# Initialize an empty DataFrame for forecast results\n",
    "test_results = pd.DataFrame(columns=['product_id','order_date', 'test_forecast_orders','rse', 'rmse','r2_score'])"
   ]
  },
  {
   "cell_type": "code",
   "execution_count": 12,
   "id": "8bd2f566-4d8b-4a45-951e-bcf7cc991dc4",
   "metadata": {},
   "outputs": [],
   "source": [
    "# Initialize an empty DataFrame for forecast results\n",
    "forecast_results = pd.DataFrame(columns=['product_id','order_date', 'forecast_order_qty'])"
   ]
  },
  {
   "cell_type": "code",
   "execution_count": 13,
   "id": "ae480169-e400-4a33-87cd-eede2a9ba685",
   "metadata": {},
   "outputs": [
    {
     "data": {
      "text/plain": [
       "<pandas.core.groupby.generic.DataFrameGroupBy object at 0x7f8a1eea6070>"
      ]
     },
     "execution_count": 13,
     "metadata": {},
     "output_type": "execute_result"
    }
   ],
   "source": [
    "grouped_data"
   ]
  },
  {
   "cell_type": "code",
   "execution_count": null,
   "id": "e86c8555-31b0-42f0-9e79-c29bf94c8bc6",
   "metadata": {},
   "outputs": [],
   "source": [
    "for product_id, group in grouped_data:\n",
    "    # Sort data by order date\n",
    "    group.sort_index(inplace=True)\n",
    "    \n",
    "    # Split data into train and test sets (80% train, 20% test)\n",
    "    train_size = int(0.8 * len(group))\n",
    "    train_data, test_data = group.iloc[:train_size], group.iloc[train_size:]\n",
    "    \n",
    "    # Create SARIMAX model\n",
    "    model = SARIMAX(train_data['ORDER_QTY'], order=(1, 1, 1), seasonal_order=(1, 1, 1, 12))\n",
    "    model_fit = model.fit(disp=False)\n",
    "    \n",
    "    # Forecast the next period\n",
    "    test_model = model_fit.get_forecast(steps=len(test_data))\n",
    "    test_df = test_model.predicted_mean\n",
    "\n",
    "    # Evaluate the model\n",
    "    rse = np.sqrt(((test_df - test_data) ** 2).sum().sum() / (test_data.shape[0] * test_data.shape[1] - len(model_fit.params)))\n",
    "    rmse = np.sqrt(mean_squared_error(test_data['ORDER_QTY'], test_df))\n",
    "    r2 = r2_score(test_data['ORDER_QTY'], test_df)\n",
    "\n",
    "    # Convert index to date format\n",
    "    test_df.index = pd.to_datetime(test_df.index)\n",
    "    date_list = test_df.index.strftime('%Y-%m-%d').to_list()\n",
    "    \n",
    "    new_row = {\n",
    "        'product_id': product_id,\n",
    "        'order_date': date_list,\n",
    "        'test_forecast_orders': test_df,\n",
    "        'rse': rse,\n",
    "        'rmse': rmse,\n",
    "        'r2_score': r2\n",
    "    }\n",
    "    \n",
    "    df_new = pd.DataFrame(new_row)\n",
    "    test_results = pd.concat([test_results, df_new], ignore_index=True)\n",
    "    \n",
    "    # Forecast future values\n",
    "    forecast = model_fit.get_forecast(steps=25)\n",
    "    forecast_df = forecast.predicted_mean\n",
    "    \n",
    "    # Convert index to date format\n",
    "    forecast_df.index = pd.to_datetime(forecast_df.index)\n",
    "    date_list2 = forecast_df.index.strftime('%Y-%m-%d').to_list()\n",
    "    \n",
    "    new_row2 = {\n",
    "        'product_id': product_id,\n",
    "        'order_date': date_list2,\n",
    "        'forecast_order_qty': forecast_df,\n",
    "    }\n",
    "    \n",
    "    df_new2 = pd.DataFrame(new_row2)\n",
    "    forecast_results = pd.concat([forecast_results, df_new2], ignore_index=True)\n"
   ]
  },
  {
   "cell_type": "code",
   "execution_count": null,
   "id": "e86814e1-3182-4aa9-a252-90016c7837b7",
   "metadata": {},
   "outputs": [],
   "source": []
  }
 ],
 "metadata": {
  "kernelspec": {
   "display_name": "Python 3 (ipykernel)",
   "language": "python",
   "name": "python3"
  },
  "language_info": {
   "codemirror_mode": {
    "name": "ipython",
    "version": 3
   },
   "file_extension": ".py",
   "mimetype": "text/x-python",
   "name": "python",
   "nbconvert_exporter": "python",
   "pygments_lexer": "ipython3",
   "version": "3.9.19"
  }
 },
 "nbformat": 4,
 "nbformat_minor": 5
}
