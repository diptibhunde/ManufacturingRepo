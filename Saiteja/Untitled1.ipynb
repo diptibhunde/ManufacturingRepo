{
 "cells": [
  {
   "cell_type": "code",
   "execution_count": 5,
   "id": "e533ac0d-deaf-4d4d-88f9-bfa52b2d6aba",
   "metadata": {},
   "outputs": [
    {
     "ename": "ValueError",
     "evalue": "not enough values to unpack (expected 3, got 2)",
     "output_type": "error",
     "traceback": [
      "\u001b[0;31m---------------------------------------------------------------------------\u001b[0m",
      "\u001b[0;31mValueError\u001b[0m                                Traceback (most recent call last)",
      "Cell \u001b[0;32mIn[5], line 13\u001b[0m\n\u001b[1;32m     10\u001b[0m grouped_data \u001b[38;5;241m=\u001b[39m df\u001b[38;5;241m.\u001b[39mgroupby(\u001b[38;5;124m'\u001b[39m\u001b[38;5;124mproduct_id\u001b[39m\u001b[38;5;124m'\u001b[39m)\n\u001b[1;32m     12\u001b[0m \u001b[38;5;66;03m# Iterate over each group\u001b[39;00m\n\u001b[0;32m---> 13\u001b[0m \u001b[38;5;28;01mfor\u001b[39;00m product_id,order_date, group \u001b[38;5;129;01min\u001b[39;00m grouped_data:\n\u001b[1;32m     14\u001b[0m     \u001b[38;5;28mprint\u001b[39m(\u001b[38;5;124mf\u001b[39m\u001b[38;5;124m\"\u001b[39m\u001b[38;5;124mProduct ID: \u001b[39m\u001b[38;5;132;01m{\u001b[39;00mproduct_id\u001b[38;5;132;01m}\u001b[39;00m\u001b[38;5;124m\"\u001b[39m)\n\u001b[1;32m     15\u001b[0m     \u001b[38;5;28mprint\u001b[39m(group)\n",
      "\u001b[0;31mValueError\u001b[0m: not enough values to unpack (expected 3, got 2)"
     ]
    }
   ],
   "source": [
    "import pandas as pd\n",
    "\n",
    "# Sample DataFrame\n",
    "data = {'product_id': [1, 1, 2, 2, 3],\n",
    "        'order_date' : [29,28,27,26,25],\n",
    "        'value': [10, 15, 10, 20, 30]}\n",
    "df = pd.DataFrame(data)\n",
    "\n",
    "# Group by 'product_id'\n",
    "grouped_data = df.groupby('product_id')\n",
    "\n",
    "# Iterate over each group\n",
    "for product_id,order_date, group in grouped_data:\n",
    "    print(f\"Product ID: {product_id}\")\n",
    "    print(f\"Order Date: {order_date}\"\n",
    "    print(group)\n"
   ]
  },
  {
   "cell_type": "code",
   "execution_count": 2,
   "id": "9f55e192-79f9-4946-99c4-ec5a25cd5fbf",
   "metadata": {},
   "outputs": [
    {
     "name": "stdout",
     "output_type": "stream",
     "text": [
      "Product ID: 3\n",
      "(1,    product_id  value\n",
      "0           1     10\n",
      "1           1     15)\n",
      "Product ID: 3\n",
      "(2,    product_id  value\n",
      "2           2     10\n",
      "3           2     20)\n",
      "Product ID: 3\n",
      "(3,    product_id  value\n",
      "4           3     30)\n"
     ]
    }
   ],
   "source": [
    "import pandas as pd\n",
    "\n",
    "# Sample DataFrame\n",
    "data = {'product_id': [1, 1, 2, 2, 3],\n",
    "        'value': [10, 15, 10, 20, 30]}\n",
    "df = pd.DataFrame(data)\n",
    "\n",
    "# Group by 'product_id'\n",
    "grouped_data = df.groupby('product_id')\n",
    "\n",
    "# Iterate over each group\n",
    "for group in grouped_data:\n",
    "    print(f\"Product ID: {product_id}\")\n",
    "    print(group)\n"
   ]
  },
  {
   "cell_type": "code",
   "execution_count": null,
   "id": "5880908b-70ac-488e-860e-86adf997d536",
   "metadata": {},
   "outputs": [],
   "source": []
  }
 ],
 "metadata": {
  "kernelspec": {
   "display_name": "Python 3 (ipykernel)",
   "language": "python",
   "name": "python3"
  },
  "language_info": {
   "codemirror_mode": {
    "name": "ipython",
    "version": 3
   },
   "file_extension": ".py",
   "mimetype": "text/x-python",
   "name": "python",
   "nbconvert_exporter": "python",
   "pygments_lexer": "ipython3",
   "version": "3.9.19"
  }
 },
 "nbformat": 4,
 "nbformat_minor": 5
}
