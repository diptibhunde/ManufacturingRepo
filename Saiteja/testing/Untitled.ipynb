{
 "cells": [
  {
   "cell_type": "code",
   "execution_count": null,
   "id": "2789d024-2121-4306-942f-7f0cd6ed83c3",
   "metadata": {},
   "outputs": [],
   "source": []
  }
 ],
 "metadata": {
  "kernelspec": {
   "display_name": "",
   "name": ""
  },
  "language_info": {
   "name": ""
  }
 },
 "nbformat": 4,
 "nbformat_minor": 5
}
