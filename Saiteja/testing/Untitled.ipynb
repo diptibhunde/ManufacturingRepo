{
 "cells": [
  {
   "cell_type": "code",
   "execution_count": 1,
   "id": "2789d024-2121-4306-942f-7f0cd6ed83c3",
   "metadata": {},
   "outputs": [
    {
     "name": "stdout",
     "output_type": "stream",
     "text": [
      "Requirement already satisfied: statsmodels in /opt/conda/lib/python3.9/site-packages (0.14.3)\n",
      "Requirement already satisfied: numpy<3,>=1.22.3 in /opt/conda/lib/python3.9/site-packages (from statsmodels) (1.26.4)\n",
      "Requirement already satisfied: scipy!=1.9.2,>=1.8 in /opt/conda/lib/python3.9/site-packages (from statsmodels) (1.13.1)\n",
      "Requirement already satisfied: patsy>=0.5.6 in /opt/conda/lib/python3.9/site-packages (from statsmodels) (0.5.6)\n",
      "Requirement already satisfied: pandas!=2.1.0,>=1.4 in /opt/conda/lib/python3.9/site-packages (from statsmodels) (2.2.0)\n",
      "Requirement already satisfied: packaging>=21.3 in /opt/conda/lib/python3.9/site-packages (from statsmodels) (23.2)\n",
      "Requirement already satisfied: six in /opt/conda/lib/python3.9/site-packages (from patsy>=0.5.6->statsmodels) (1.16.0)\n",
      "Requirement already satisfied: pytz>=2020.1 in /opt/conda/lib/python3.9/site-packages (from pandas!=2.1.0,>=1.4->statsmodels) (2024.1)\n",
      "Requirement already satisfied: tzdata>=2022.7 in /opt/conda/lib/python3.9/site-packages (from pandas!=2.1.0,>=1.4->statsmodels) (2024.1)\n",
      "Requirement already satisfied: python-dateutil>=2.8.2 in /opt/conda/lib/python3.9/site-packages (from pandas!=2.1.0,>=1.4->statsmodels) (2.9.0.post0)\n",
      "\u001b[33mWARNING: You are using pip version 19.3.1; however, version 24.2 is available.\n",
      "You should consider upgrading via the 'pip install --upgrade pip' command.\u001b[0m\n"
     ]
    }
   ],
   "source": [
    "!pip install statsmodels"
   ]
  },
  {
   "cell_type": "code",
   "execution_count": 2,
   "id": "ac0a6708-c352-4ddf-a800-f8aed86f0561",
   "metadata": {},
   "outputs": [],
   "source": [
    "import pandas as pd\n",
    "import numpy as np\n",
    "import statsmodels.api as sm\n",
    "from statsmodels.tsa.statespace.sarimax import SARIMAX\n",
    "from sklearn.metrics import mean_squared_error, r2_score\n",
    "\n"
   ]
  },
  {
   "cell_type": "code",
   "execution_count": 3,
   "id": "58e6e8a3-53a5-45d5-8d82-5f509412c707",
   "metadata": {},
   "outputs": [],
   "source": [
    "from fosforml.model_manager.snowflakesession import get_session\n",
    "my_session = get_session()\n",
    " \n",
    "table_name = '\"FACT_CUSTOMER_ORDERS\"'\n",
    " \n",
    "sf_df = my_session.sql(\"select * from {}\".format(table_name))\n",
    "df = sf_df.to_pandas()"
   ]
  },
  {
   "cell_type": "code",
   "execution_count": 4,
   "id": "2c12e14f-eb01-4cf3-abec-2c7bf2a02fcb",
   "metadata": {},
   "outputs": [],
   "source": [
    "data = df[['PRODUCT_ID','ORDER_DATE','ORDER_QTY']]"
   ]
  },
  {
   "cell_type": "code",
   "execution_count": 5,
   "id": "b2d97680-6ef6-4c01-bb2c-14bb656b80a0",
   "metadata": {},
   "outputs": [],
   "source": [
    "data['ORDER_DATE']=pd.to_datetime(data['ORDER_DATE'])"
   ]
  },
  {
   "cell_type": "code",
   "execution_count": 6,
   "id": "6ea82b9d-73dd-496f-8bfb-44be187667b4",
   "metadata": {},
   "outputs": [],
   "source": [
    "data_grouped = data.groupby(['PRODUCT_ID',data['ORDER_DATE'].dt.to_period('M')]).agg(Total_Order_Qty=('ORDER_QTY','sum')).reset_index()"
   ]
  },
  {
   "cell_type": "code",
   "execution_count": 7,
   "id": "1ed738cb-9bda-4108-a4cc-a1ff1eabf63e",
   "metadata": {},
   "outputs": [],
   "source": [
    "data_grouped['ORDER_MONTH']=data_grouped['ORDER_DATE'].dt.to_timestamp()"
   ]
  },
  {
   "cell_type": "code",
   "execution_count": 9,
   "id": "0064c62b-1632-4ccc-b300-df79ae207598",
   "metadata": {},
   "outputs": [],
   "source": [
    "data_grouped = data_grouped[['PRODUCT_ID','ORDER_MONTH','Total_Order_Qty']]"
   ]
  },
  {
   "cell_type": "code",
   "execution_count": 10,
   "id": "fd2cbb2d-df78-4d2c-9c31-5918a15aee83",
   "metadata": {},
   "outputs": [
    {
     "data": {
      "text/html": [
       "<div>\n",
       "<style scoped>\n",
       "    .dataframe tbody tr th:only-of-type {\n",
       "        vertical-align: middle;\n",
       "    }\n",
       "\n",
       "    .dataframe tbody tr th {\n",
       "        vertical-align: top;\n",
       "    }\n",
       "\n",
       "    .dataframe thead th {\n",
       "        text-align: right;\n",
       "    }\n",
       "</style>\n",
       "<table border=\"1\" class=\"dataframe\">\n",
       "  <thead>\n",
       "    <tr style=\"text-align: right;\">\n",
       "      <th></th>\n",
       "      <th>PRODUCT_ID</th>\n",
       "      <th>ORDER_MONTH</th>\n",
       "      <th>Total_Order_Qty</th>\n",
       "    </tr>\n",
       "  </thead>\n",
       "  <tbody>\n",
       "    <tr>\n",
       "      <th>0</th>\n",
       "      <td>Product_001</td>\n",
       "      <td>2019-01-01</td>\n",
       "      <td>148400</td>\n",
       "    </tr>\n",
       "    <tr>\n",
       "      <th>1</th>\n",
       "      <td>Product_001</td>\n",
       "      <td>2019-02-01</td>\n",
       "      <td>146650</td>\n",
       "    </tr>\n",
       "    <tr>\n",
       "      <th>2</th>\n",
       "      <td>Product_001</td>\n",
       "      <td>2019-03-01</td>\n",
       "      <td>133150</td>\n",
       "    </tr>\n",
       "    <tr>\n",
       "      <th>3</th>\n",
       "      <td>Product_001</td>\n",
       "      <td>2019-04-01</td>\n",
       "      <td>153600</td>\n",
       "    </tr>\n",
       "    <tr>\n",
       "      <th>4</th>\n",
       "      <td>Product_001</td>\n",
       "      <td>2019-05-01</td>\n",
       "      <td>154650</td>\n",
       "    </tr>\n",
       "    <tr>\n",
       "      <th>...</th>\n",
       "      <td>...</td>\n",
       "      <td>...</td>\n",
       "      <td>...</td>\n",
       "    </tr>\n",
       "    <tr>\n",
       "      <th>2987</th>\n",
       "      <td>Product_100</td>\n",
       "      <td>2024-04-01</td>\n",
       "      <td>30200</td>\n",
       "    </tr>\n",
       "    <tr>\n",
       "      <th>2988</th>\n",
       "      <td>Product_100</td>\n",
       "      <td>2024-05-01</td>\n",
       "      <td>27850</td>\n",
       "    </tr>\n",
       "    <tr>\n",
       "      <th>2989</th>\n",
       "      <td>Product_100</td>\n",
       "      <td>2024-06-01</td>\n",
       "      <td>33200</td>\n",
       "    </tr>\n",
       "    <tr>\n",
       "      <th>2990</th>\n",
       "      <td>Product_100</td>\n",
       "      <td>2024-07-01</td>\n",
       "      <td>33300</td>\n",
       "    </tr>\n",
       "    <tr>\n",
       "      <th>2991</th>\n",
       "      <td>Product_100</td>\n",
       "      <td>2024-08-01</td>\n",
       "      <td>30700</td>\n",
       "    </tr>\n",
       "  </tbody>\n",
       "</table>\n",
       "<p>2992 rows × 3 columns</p>\n",
       "</div>"
      ],
      "text/plain": [
       "       PRODUCT_ID ORDER_MONTH  Total_Order_Qty\n",
       "0     Product_001  2019-01-01           148400\n",
       "1     Product_001  2019-02-01           146650\n",
       "2     Product_001  2019-03-01           133150\n",
       "3     Product_001  2019-04-01           153600\n",
       "4     Product_001  2019-05-01           154650\n",
       "...           ...         ...              ...\n",
       "2987  Product_100  2024-04-01            30200\n",
       "2988  Product_100  2024-05-01            27850\n",
       "2989  Product_100  2024-06-01            33200\n",
       "2990  Product_100  2024-07-01            33300\n",
       "2991  Product_100  2024-08-01            30700\n",
       "\n",
       "[2992 rows x 3 columns]"
      ]
     },
     "execution_count": 10,
     "metadata": {},
     "output_type": "execute_result"
    }
   ],
   "source": [
    "data_grouped"
   ]
  },
  {
   "cell_type": "code",
   "execution_count": 11,
   "id": "6d2f786f-6c48-45e8-a07c-1919f850c84d",
   "metadata": {},
   "outputs": [],
   "source": [
    "data_grouped = data_grouped.set_index('ORDER_MONTH')"
   ]
  },
  {
   "cell_type": "code",
   "execution_count": 12,
   "id": "6bb920ff-5892-4046-aa9d-e9c6b85debb7",
   "metadata": {},
   "outputs": [
    {
     "data": {
      "text/html": [
       "<div>\n",
       "<style scoped>\n",
       "    .dataframe tbody tr th:only-of-type {\n",
       "        vertical-align: middle;\n",
       "    }\n",
       "\n",
       "    .dataframe tbody tr th {\n",
       "        vertical-align: top;\n",
       "    }\n",
       "\n",
       "    .dataframe thead th {\n",
       "        text-align: right;\n",
       "    }\n",
       "</style>\n",
       "<table border=\"1\" class=\"dataframe\">\n",
       "  <thead>\n",
       "    <tr style=\"text-align: right;\">\n",
       "      <th></th>\n",
       "      <th>PRODUCT_ID</th>\n",
       "      <th>Total_Order_Qty</th>\n",
       "    </tr>\n",
       "    <tr>\n",
       "      <th>ORDER_MONTH</th>\n",
       "      <th></th>\n",
       "      <th></th>\n",
       "    </tr>\n",
       "  </thead>\n",
       "  <tbody>\n",
       "    <tr>\n",
       "      <th>2019-01-01</th>\n",
       "      <td>Product_001</td>\n",
       "      <td>148400</td>\n",
       "    </tr>\n",
       "    <tr>\n",
       "      <th>2019-02-01</th>\n",
       "      <td>Product_001</td>\n",
       "      <td>146650</td>\n",
       "    </tr>\n",
       "    <tr>\n",
       "      <th>2019-03-01</th>\n",
       "      <td>Product_001</td>\n",
       "      <td>133150</td>\n",
       "    </tr>\n",
       "    <tr>\n",
       "      <th>2019-04-01</th>\n",
       "      <td>Product_001</td>\n",
       "      <td>153600</td>\n",
       "    </tr>\n",
       "    <tr>\n",
       "      <th>2019-05-01</th>\n",
       "      <td>Product_001</td>\n",
       "      <td>154650</td>\n",
       "    </tr>\n",
       "    <tr>\n",
       "      <th>...</th>\n",
       "      <td>...</td>\n",
       "      <td>...</td>\n",
       "    </tr>\n",
       "    <tr>\n",
       "      <th>2024-04-01</th>\n",
       "      <td>Product_100</td>\n",
       "      <td>30200</td>\n",
       "    </tr>\n",
       "    <tr>\n",
       "      <th>2024-05-01</th>\n",
       "      <td>Product_100</td>\n",
       "      <td>27850</td>\n",
       "    </tr>\n",
       "    <tr>\n",
       "      <th>2024-06-01</th>\n",
       "      <td>Product_100</td>\n",
       "      <td>33200</td>\n",
       "    </tr>\n",
       "    <tr>\n",
       "      <th>2024-07-01</th>\n",
       "      <td>Product_100</td>\n",
       "      <td>33300</td>\n",
       "    </tr>\n",
       "    <tr>\n",
       "      <th>2024-08-01</th>\n",
       "      <td>Product_100</td>\n",
       "      <td>30700</td>\n",
       "    </tr>\n",
       "  </tbody>\n",
       "</table>\n",
       "<p>2992 rows × 2 columns</p>\n",
       "</div>"
      ],
      "text/plain": [
       "              PRODUCT_ID  Total_Order_Qty\n",
       "ORDER_MONTH                              \n",
       "2019-01-01   Product_001           148400\n",
       "2019-02-01   Product_001           146650\n",
       "2019-03-01   Product_001           133150\n",
       "2019-04-01   Product_001           153600\n",
       "2019-05-01   Product_001           154650\n",
       "...                  ...              ...\n",
       "2024-04-01   Product_100            30200\n",
       "2024-05-01   Product_100            27850\n",
       "2024-06-01   Product_100            33200\n",
       "2024-07-01   Product_100            33300\n",
       "2024-08-01   Product_100            30700\n",
       "\n",
       "[2992 rows x 2 columns]"
      ]
     },
     "execution_count": 12,
     "metadata": {},
     "output_type": "execute_result"
    }
   ],
   "source": [
    "data_grouped"
   ]
  },
  {
   "cell_type": "code",
   "execution_count": 17,
   "id": "e585ca38-e6a2-460c-a7e5-053c76409ed8",
   "metadata": {},
   "outputs": [],
   "source": [
    "# Group data by 'product_id'\n",
    "PID_grouped_data = data_grouped.groupby('PRODUCT_ID')"
   ]
  },
  {
   "cell_type": "code",
   "execution_count": 28,
   "id": "b0fc14d6-780e-4c0d-be32-529fa1cd801c",
   "metadata": {},
   "outputs": [],
   "source": [
    "# Initialize an empty DataFrame for forecast results\n",
    "test_results = pd.DataFrame(columns=['PRODUCT_ID','ORDER_MONTH', 'test_forecast_orders','rse', 'rmse','r2_score'])"
   ]
  },
  {
   "cell_type": "code",
   "execution_count": 29,
   "id": "9a4347e1-9b76-41ff-9489-92e082965360",
   "metadata": {},
   "outputs": [],
   "source": [
    "forecast_results = pd.DataFrame(columns=['PRODUCT_ID','ORDER_MONTH', 'forecast_order_qty'])"
   ]
  },
  {
   "cell_type": "code",
   "execution_count": 32,
   "id": "b1a1c169-3019-4b97-9460-000f64958ffd",
   "metadata": {},
   "outputs": [],
   "source": [
    "for product_id, group in PID_grouped_data:\n",
    "    # Sort data by order date\n",
    "    group.sort_index(inplace=True)\n",
    "    \n",
    "    # Split data into train and test sets (80% train, 20% test)\n",
    "    train_size = int(0.8 * len(group))\n",
    "    train_data, test_data = group.iloc[:train_size], group.iloc[train_size:]\n",
    "\n",
    "    \n",
    "    \n",
    "    # Create SARIMAX model\n",
    "    model = SARIMAX(train_data['Total_Order_Qty'], order=(1, 1, 1), seasonal_order=(1, 1, 1, 12))\n",
    "    model_fit = model.fit(disp=False)\n",
    "    \n",
    "    # Forecast the next period\n",
    "    test_model = model_fit.get_forecast(steps=len(test_data))\n",
    "    test_df = test_model.predicted_mean\n",
    "\n",
    "    #print(f'test_df:{test_df.index}')\n",
    "    \n",
    "    # Calculate RMSE for order quantity\n",
    "    #rmse_order_qty = np.sqrt(mean_squared_error(test_data['ORDER_QTY'], forecast_order_qty))\n",
    "    \n",
    "    # Evaluate the model\n",
    "    rse = np.sqrt(((test_df - test_data) ** 2).sum().sum() / (test_data.shape[0] * test_data.shape[1] - len(model_fit.params)))\n",
    "    rmse = np.sqrt(mean_squared_error(test_data['Total_Order_Qty'], test_df))\n",
    "    r2 = r2_score(test_data['Total_Order_Qty'], test_df)\n",
    "\n",
    "    \n",
    "    date_list = test_df.index.to_list()\n",
    "    \n",
    "\n",
    "    \n",
    "    #print(f\"Order_date: {date_list}\")    \n",
    "    new_row = {\n",
    "        'PRODUCT_ID': product_id,\n",
    "        'ORDER_MONTH': date_list,\n",
    "        'test_forecast_orders': test_df,\n",
    "        'rse': rse,\n",
    "        'rmse': rmse,\n",
    "        'r2_score': r2\n",
    "    }\n",
    "    \n",
    "    df_new = pd.DataFrame(new_row)\n",
    "\n",
    "    df_new.set_index('ORDER_MONTH')\n",
    "    \n",
    "    test_results=pd.concat([test_results,df_new],ignore_index=True)\n",
    "    # Forecast future values\n",
    "    forecast = model_fit.get_forecast(steps=25)#, steps=n_forecast)\n",
    "    forecast_df = forecast.predicted_mean\n",
    "    \n",
    "    date_list2= forecast_df.index.to_list()\n",
    "    \n",
    "    new_row2 = {\n",
    "        'PRODUCT_ID': product_id,\n",
    "        'ORDER_MONTH': date_list2,\n",
    "        'forecast_order_qty': forecast_df,\n",
    "    }\n",
    "    \n",
    "    df_new2 = pd.DataFrame(new_row2)\n",
    "    \n",
    "    forecast_results=pd.concat([forecast_results,df_new2],ignore_index=True)"
   ]
  },
  {
   "cell_type": "code",
   "execution_count": 30,
   "id": "a595dd3f-f61e-4b89-89b0-51ed31744daf",
   "metadata": {},
   "outputs": [
    {
     "data": {
      "text/html": [
       "<div>\n",
       "<style scoped>\n",
       "    .dataframe tbody tr th:only-of-type {\n",
       "        vertical-align: middle;\n",
       "    }\n",
       "\n",
       "    .dataframe tbody tr th {\n",
       "        vertical-align: top;\n",
       "    }\n",
       "\n",
       "    .dataframe thead th {\n",
       "        text-align: right;\n",
       "    }\n",
       "</style>\n",
       "<table border=\"1\" class=\"dataframe\">\n",
       "  <thead>\n",
       "    <tr style=\"text-align: right;\">\n",
       "      <th></th>\n",
       "      <th>PRODUCT_ID</th>\n",
       "      <th>ORDER_MONTH</th>\n",
       "      <th>test_forecast_orders</th>\n",
       "      <th>rse</th>\n",
       "      <th>rmse</th>\n",
       "      <th>r2_score</th>\n",
       "    </tr>\n",
       "  </thead>\n",
       "  <tbody>\n",
       "  </tbody>\n",
       "</table>\n",
       "</div>"
      ],
      "text/plain": [
       "Empty DataFrame\n",
       "Columns: [PRODUCT_ID, ORDER_MONTH, test_forecast_orders, rse, rmse, r2_score]\n",
       "Index: []"
      ]
     },
     "execution_count": 30,
     "metadata": {},
     "output_type": "execute_result"
    }
   ],
   "source": [
    "test_results"
   ]
  },
  {
   "cell_type": "code",
   "execution_count": 31,
   "id": "b9d64a62-2cef-4559-bf9c-f38e9c5b9bc2",
   "metadata": {},
   "outputs": [
    {
     "data": {
      "text/html": [
       "<div>\n",
       "<style scoped>\n",
       "    .dataframe tbody tr th:only-of-type {\n",
       "        vertical-align: middle;\n",
       "    }\n",
       "\n",
       "    .dataframe tbody tr th {\n",
       "        vertical-align: top;\n",
       "    }\n",
       "\n",
       "    .dataframe thead th {\n",
       "        text-align: right;\n",
       "    }\n",
       "</style>\n",
       "<table border=\"1\" class=\"dataframe\">\n",
       "  <thead>\n",
       "    <tr style=\"text-align: right;\">\n",
       "      <th></th>\n",
       "      <th>PRODUCT_ID</th>\n",
       "      <th>ORDER_MONTH</th>\n",
       "      <th>forecast_order_qty</th>\n",
       "    </tr>\n",
       "  </thead>\n",
       "  <tbody>\n",
       "  </tbody>\n",
       "</table>\n",
       "</div>"
      ],
      "text/plain": [
       "Empty DataFrame\n",
       "Columns: [PRODUCT_ID, ORDER_MONTH, forecast_order_qty]\n",
       "Index: []"
      ]
     },
     "execution_count": 31,
     "metadata": {},
     "output_type": "execute_result"
    }
   ],
   "source": [
    "forecast_results"
   ]
  },
  {
   "cell_type": "code",
   "execution_count": null,
   "id": "1136b423-d76f-4765-9d60-99e3853258db",
   "metadata": {},
   "outputs": [],
   "source": []
  }
 ],
 "metadata": {
  "kernelspec": {
   "display_name": "Python 3 (ipykernel)",
   "language": "python",
   "name": "python3"
  },
  "language_info": {
   "codemirror_mode": {
    "name": "ipython",
    "version": 3
   },
   "file_extension": ".py",
   "mimetype": "text/x-python",
   "name": "python",
   "nbconvert_exporter": "python",
   "pygments_lexer": "ipython3",
   "version": "3.9.19"
  }
 },
 "nbformat": 4,
 "nbformat_minor": 5
}
