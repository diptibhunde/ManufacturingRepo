{
 "cells": [
  {
   "cell_type": "code",
   "execution_count": null,
   "id": "c3743c1e-1120-403e-9dab-a8a6faf32a29",
   "metadata": {},
   "outputs": [],
   "source": []
  }
 ],
 "metadata": {
  "kernelspec": {
   "display_name": "",
   "name": ""
  },
  "language_info": {
   "name": ""
  }
 },
 "nbformat": 4,
 "nbformat_minor": 5
}
