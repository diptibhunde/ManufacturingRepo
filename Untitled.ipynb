{
 "cells": [
  {
   "cell_type": "code",
   "execution_count": null,
   "id": "234d4de5-b6bb-460b-a8ef-5c8ec46c44b1",
   "metadata": {},
   "outputs": [],
   "source": []
  }
 ],
 "metadata": {
  "kernelspec": {
   "display_name": "",
   "name": ""
  },
  "language_info": {
   "name": ""
  }
 },
 "nbformat": 4,
 "nbformat_minor": 5
}
